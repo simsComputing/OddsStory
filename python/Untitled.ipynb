{
 "cells": [
  {
   "cell_type": "code",
   "execution_count": 7,
   "metadata": {},
   "outputs": [
    {
     "name": "stdout",
     "output_type": "stream",
     "text": [
      "IPython version:       5.4.1 (need at least 1.0)\n",
      "Numpy version:        1.11.0 (need at least 1.7.1)\n",
      "SciPy version:        0.19.1 (need at least 0.12.0)\n",
      "Pandas version:       0.20.2 (need at least 0.11.0)\n",
      "Mapltolib version:     1.5.1 (need at least 1.2.1)\n"
     ]
    }
   ],
   "source": [
    "# START BY LOADING ALL THE LIBRARIES\n",
    "\n",
    "#IPython is what you are using now to run the notebook\n",
    "import IPython\n",
    "print \"IPython version:      %6.6s (need at least 1.0)\" % IPython.__version__\n",
    "\n",
    "# Numpy is a library for working with Arrays\n",
    "import numpy as np\n",
    "print \"Numpy version:        %6.6s (need at least 1.7.1)\" % np.__version__\n",
    "\n",
    "# SciPy implements many different numerical algorithms\n",
    "import scipy as sp\n",
    "print \"SciPy version:        %6.6s (need at least 0.12.0)\" % sp.__version__\n",
    "\n",
    "# Pandas makes working with data tables easier\n",
    "import pandas as pd\n",
    "print \"Pandas version:       %6.6s (need at least 0.11.0)\" % pd.__version__\n",
    "\n",
    "# Module for plotting\n",
    "import matplotlib\n",
    "print \"Mapltolib version:    %6.6s (need at least 1.2.1)\" % matplotlib.__version__\n",
    "\n",
    "import json\n",
    "import xlrd\n",
    "import datetime\n",
    "import math\n",
    "\n",
    "from IPython.display import display, HTML"
   ]
  },
  {
   "cell_type": "code",
   "execution_count": 23,
   "metadata": {},
   "outputs": [],
   "source": [
    "#THEN LOAD ALL THE JSON DATABASES INTO A PANDA DATAFRAME\n",
    "\n",
    "dfp = pd.read_json('../data/data/wnba/pinnacleOdds.db', lines=True, dtype=False)\n",
    "dfp[\"bookmaker\"] = \"pinnacle\"\n",
    "dfu = pd.read_json('../data/data/wnba/unibetOdds.db', lines=True, dtype=False)\n",
    "dfu[\"bookmaker\"] = \"unibet\"\n",
    "dfw = pd.read_json('../data/data/wnba/winamaxOdds.db', lines=True, dtype=False)\n",
    "dfw[\"bookmaker\"] = \"winamax\"\n",
    "frames = [dfp,dfu,dfw]\n",
    "df = pd.concat(frames)"
   ]
  },
  {
   "cell_type": "code",
   "execution_count": 31,
   "metadata": {},
   "outputs": [
    {
     "data": {
      "text/html": [
       "<div>\n",
       "<style>\n",
       "    .dataframe thead tr:only-child th {\n",
       "        text-align: right;\n",
       "    }\n",
       "\n",
       "    .dataframe thead th {\n",
       "        text-align: left;\n",
       "    }\n",
       "\n",
       "    .dataframe tbody tr th {\n",
       "        vertical-align: top;\n",
       "    }\n",
       "</style>\n",
       "<table border=\"1\" class=\"dataframe\">\n",
       "  <thead>\n",
       "    <tr style=\"text-align: right;\">\n",
       "      <th></th>\n",
       "      <th>_id</th>\n",
       "      <th>away_odd</th>\n",
       "      <th>away_team</th>\n",
       "      <th>home_odd</th>\n",
       "      <th>home_team</th>\n",
       "      <th>time</th>\n",
       "      <th>bookmaker</th>\n",
       "    </tr>\n",
       "  </thead>\n",
       "  <tbody>\n",
       "    <tr>\n",
       "      <th>4</th>\n",
       "      <td>00Tr6IHfNPllJL18</td>\n",
       "      <td>5.270</td>\n",
       "      <td>Connecticut Sun</td>\n",
       "      <td>1.184</td>\n",
       "      <td>Minnesota Lynx</td>\n",
       "      <td>1497743141693</td>\n",
       "      <td>pinnacle</td>\n",
       "    </tr>\n",
       "    <tr>\n",
       "      <th>12</th>\n",
       "      <td>01Hbjmbs3lKVDZyW</td>\n",
       "      <td>6.300</td>\n",
       "      <td>Dallas Wings</td>\n",
       "      <td>1.142</td>\n",
       "      <td>Los Angeles Sparks</td>\n",
       "      <td>1497383004869</td>\n",
       "      <td>pinnacle</td>\n",
       "    </tr>\n",
       "    <tr>\n",
       "      <th>13</th>\n",
       "      <td>01HvzIJc9g9Tacx3</td>\n",
       "      <td>5.980</td>\n",
       "      <td>Dallas Wings</td>\n",
       "      <td>1.153</td>\n",
       "      <td>Los Angeles Sparks</td>\n",
       "      <td>1497403243224</td>\n",
       "      <td>pinnacle</td>\n",
       "    </tr>\n",
       "    <tr>\n",
       "      <th>19</th>\n",
       "      <td>02Fnfb4MrHvpjNjU</td>\n",
       "      <td>6.270</td>\n",
       "      <td>Dallas Wings</td>\n",
       "      <td>1.143</td>\n",
       "      <td>Los Angeles Sparks</td>\n",
       "      <td>1497368586760</td>\n",
       "      <td>pinnacle</td>\n",
       "    </tr>\n",
       "    <tr>\n",
       "      <th>20</th>\n",
       "      <td>02K8XDRbWRFR5bSY</td>\n",
       "      <td>2.500</td>\n",
       "      <td>Atlanta Dream</td>\n",
       "      <td>1.578</td>\n",
       "      <td>Indiana Fever</td>\n",
       "      <td>1497566946403</td>\n",
       "      <td>pinnacle</td>\n",
       "    </tr>\n",
       "    <tr>\n",
       "      <th>21</th>\n",
       "      <td>02P17de84YfajOsp</td>\n",
       "      <td>4.920</td>\n",
       "      <td>Connecticut Sun</td>\n",
       "      <td>1.204</td>\n",
       "      <td>Minnesota Lynx</td>\n",
       "      <td>1497715709949</td>\n",
       "      <td>pinnacle</td>\n",
       "    </tr>\n",
       "    <tr>\n",
       "      <th>27</th>\n",
       "      <td>03p5y67doxEohnxW</td>\n",
       "      <td>1.925</td>\n",
       "      <td>Indiana Fever</td>\n",
       "      <td>1.943</td>\n",
       "      <td>Chicago Sky</td>\n",
       "      <td>1497816746549</td>\n",
       "      <td>pinnacle</td>\n",
       "    </tr>\n",
       "    <tr>\n",
       "      <th>33</th>\n",
       "      <td>055F7RNwzZA78AM7</td>\n",
       "      <td>1.709</td>\n",
       "      <td>Phoenix Mercury</td>\n",
       "      <td>2.230</td>\n",
       "      <td>New York Liberty</td>\n",
       "      <td>1496594291368</td>\n",
       "      <td>pinnacle</td>\n",
       "    </tr>\n",
       "    <tr>\n",
       "      <th>34</th>\n",
       "      <td>05JE9n7BJtkbRhIl</td>\n",
       "      <td>4.420</td>\n",
       "      <td>Chicago Sky</td>\n",
       "      <td>1.238</td>\n",
       "      <td>Phoenix Mercury</td>\n",
       "      <td>1497663558519</td>\n",
       "      <td>pinnacle</td>\n",
       "    </tr>\n",
       "    <tr>\n",
       "      <th>36</th>\n",
       "      <td>05NBE1QyuTnGo56D</td>\n",
       "      <td>4.990</td>\n",
       "      <td>Connecticut Sun</td>\n",
       "      <td>1.200</td>\n",
       "      <td>Minnesota Lynx</td>\n",
       "      <td>1497735438413</td>\n",
       "      <td>pinnacle</td>\n",
       "    </tr>\n",
       "    <tr>\n",
       "      <th>44</th>\n",
       "      <td>07FrBApPCPrNwR6e</td>\n",
       "      <td>1.800</td>\n",
       "      <td>Phoenix Mercury</td>\n",
       "      <td>2.090</td>\n",
       "      <td>New York Liberty</td>\n",
       "      <td>1496596338168</td>\n",
       "      <td>pinnacle</td>\n",
       "    </tr>\n",
       "    <tr>\n",
       "      <th>49</th>\n",
       "      <td>07t0kBPeZqfHr1UQ</td>\n",
       "      <td>1.384</td>\n",
       "      <td>Minnesota Lynx</td>\n",
       "      <td>3.210</td>\n",
       "      <td>Washington Mystics</td>\n",
       "      <td>1497018268436</td>\n",
       "      <td>pinnacle</td>\n",
       "    </tr>\n",
       "    <tr>\n",
       "      <th>51</th>\n",
       "      <td>07vEKs6KZuvXXmqk</td>\n",
       "      <td>4.279</td>\n",
       "      <td>Chicago Sky</td>\n",
       "      <td>1.250</td>\n",
       "      <td>Phoenix Mercury</td>\n",
       "      <td>1497655013886</td>\n",
       "      <td>pinnacle</td>\n",
       "    </tr>\n",
       "    <tr>\n",
       "      <th>52</th>\n",
       "      <td>088OCcN4S1bdFbou</td>\n",
       "      <td>1.884</td>\n",
       "      <td>New York Liberty</td>\n",
       "      <td>1.990</td>\n",
       "      <td>Dallas Wings</td>\n",
       "      <td>1497646890269</td>\n",
       "      <td>pinnacle</td>\n",
       "    </tr>\n",
       "    <tr>\n",
       "      <th>56</th>\n",
       "      <td>08naOaC1vLb0kwpR</td>\n",
       "      <td>2.639</td>\n",
       "      <td>Atlanta Dream</td>\n",
       "      <td>1.526</td>\n",
       "      <td>Indiana Fever</td>\n",
       "      <td>1497551307729</td>\n",
       "      <td>pinnacle</td>\n",
       "    </tr>\n",
       "    <tr>\n",
       "      <th>63</th>\n",
       "      <td>09mLpD4z7w06FbQH</td>\n",
       "      <td>9.500</td>\n",
       "      <td>San Antonio Stars</td>\n",
       "      <td>1.076</td>\n",
       "      <td>Los Angeles Sparks</td>\n",
       "      <td>1497548843384</td>\n",
       "      <td>pinnacle</td>\n",
       "    </tr>\n",
       "    <tr>\n",
       "      <th>65</th>\n",
       "      <td>09ysgEYber0yHRIx</td>\n",
       "      <td>1.495</td>\n",
       "      <td>Phoenix Mercury</td>\n",
       "      <td>2.740</td>\n",
       "      <td>Indiana Fever</td>\n",
       "      <td>1496874629256</td>\n",
       "      <td>pinnacle</td>\n",
       "    </tr>\n",
       "    <tr>\n",
       "      <th>66</th>\n",
       "      <td>0A0KmXTUaJx5g0iw</td>\n",
       "      <td>4.250</td>\n",
       "      <td>Chicago Sky</td>\n",
       "      <td>1.251</td>\n",
       "      <td>Phoenix Mercury</td>\n",
       "      <td>1497654533800</td>\n",
       "      <td>pinnacle</td>\n",
       "    </tr>\n",
       "    <tr>\n",
       "      <th>68</th>\n",
       "      <td>0AOwSnbgorqLIdEz</td>\n",
       "      <td>4.529</td>\n",
       "      <td>Atlanta Dream</td>\n",
       "      <td>1.229</td>\n",
       "      <td>Seattle Storm</td>\n",
       "      <td>1497386650525</td>\n",
       "      <td>pinnacle</td>\n",
       "    </tr>\n",
       "    <tr>\n",
       "      <th>69</th>\n",
       "      <td>0AYAvYF8ToB6Z34N</td>\n",
       "      <td>4.350</td>\n",
       "      <td>Atlanta Dream</td>\n",
       "      <td>1.243</td>\n",
       "      <td>Seattle Storm</td>\n",
       "      <td>1497360043182</td>\n",
       "      <td>pinnacle</td>\n",
       "    </tr>\n",
       "    <tr>\n",
       "      <th>75</th>\n",
       "      <td>0BGRNVdWOJTKDAEd</td>\n",
       "      <td>5.980</td>\n",
       "      <td>Dallas Wings</td>\n",
       "      <td>1.153</td>\n",
       "      <td>Los Angeles Sparks</td>\n",
       "      <td>1497404084747</td>\n",
       "      <td>pinnacle</td>\n",
       "    </tr>\n",
       "    <tr>\n",
       "      <th>77</th>\n",
       "      <td>0Buz9nmtjmiL0M11</td>\n",
       "      <td>1.429</td>\n",
       "      <td>Seattle Storm</td>\n",
       "      <td>2.990</td>\n",
       "      <td>Indiana Fever</td>\n",
       "      <td>1497015204488</td>\n",
       "      <td>pinnacle</td>\n",
       "    </tr>\n",
       "    <tr>\n",
       "      <th>78</th>\n",
       "      <td>0C9AKZnOQ6CJUzEv</td>\n",
       "      <td>1.505</td>\n",
       "      <td>Minnesota Lynx</td>\n",
       "      <td>2.710</td>\n",
       "      <td>Washington Mystics</td>\n",
       "      <td>1497023992081</td>\n",
       "      <td>pinnacle</td>\n",
       "    </tr>\n",
       "    <tr>\n",
       "      <th>84</th>\n",
       "      <td>0DPsCB3hDazOHkNf</td>\n",
       "      <td>2.020</td>\n",
       "      <td>New York Liberty</td>\n",
       "      <td>1.854</td>\n",
       "      <td>Connecticut Sun</td>\n",
       "      <td>1497457192330</td>\n",
       "      <td>pinnacle</td>\n",
       "    </tr>\n",
       "    <tr>\n",
       "      <th>85</th>\n",
       "      <td>0DiRKzrjqT9QVH50</td>\n",
       "      <td>1.505</td>\n",
       "      <td>Minnesota Lynx</td>\n",
       "      <td>2.710</td>\n",
       "      <td>Washington Mystics</td>\n",
       "      <td>1497022445080</td>\n",
       "      <td>pinnacle</td>\n",
       "    </tr>\n",
       "    <tr>\n",
       "      <th>88</th>\n",
       "      <td>0DxEQUZ37jjse8hQ</td>\n",
       "      <td>1.480</td>\n",
       "      <td>Minnesota Lynx</td>\n",
       "      <td>2.790</td>\n",
       "      <td>Washington Mystics</td>\n",
       "      <td>1497027284197</td>\n",
       "      <td>pinnacle</td>\n",
       "    </tr>\n",
       "    <tr>\n",
       "      <th>90</th>\n",
       "      <td>0EAVrQKZorm8x9Aa</td>\n",
       "      <td>2.090</td>\n",
       "      <td>New York Liberty</td>\n",
       "      <td>1.800</td>\n",
       "      <td>Connecticut Sun</td>\n",
       "      <td>1497473148329</td>\n",
       "      <td>pinnacle</td>\n",
       "    </tr>\n",
       "    <tr>\n",
       "      <th>91</th>\n",
       "      <td>0EG1MNSR00vM2B5P</td>\n",
       "      <td>6.300</td>\n",
       "      <td>Dallas Wings</td>\n",
       "      <td>1.142</td>\n",
       "      <td>Los Angeles Sparks</td>\n",
       "      <td>1497384786699</td>\n",
       "      <td>pinnacle</td>\n",
       "    </tr>\n",
       "    <tr>\n",
       "      <th>92</th>\n",
       "      <td>0EGfnqnFENyNvHb2</td>\n",
       "      <td>1.884</td>\n",
       "      <td>Indiana Fever</td>\n",
       "      <td>1.990</td>\n",
       "      <td>Chicago Sky</td>\n",
       "      <td>1497797074964</td>\n",
       "      <td>pinnacle</td>\n",
       "    </tr>\n",
       "    <tr>\n",
       "      <th>98</th>\n",
       "      <td>0FHmNysbEoqfVo6W</td>\n",
       "      <td>9.500</td>\n",
       "      <td>San Antonio Stars</td>\n",
       "      <td>1.076</td>\n",
       "      <td>Los Angeles Sparks</td>\n",
       "      <td>1497579043494</td>\n",
       "      <td>pinnacle</td>\n",
       "    </tr>\n",
       "  </tbody>\n",
       "</table>\n",
       "</div>"
      ],
      "text/plain": [
       "                 _id away_odd          away_team home_odd           home_team  \\\n",
       "4   00Tr6IHfNPllJL18    5.270    Connecticut Sun    1.184      Minnesota Lynx   \n",
       "12  01Hbjmbs3lKVDZyW    6.300       Dallas Wings    1.142  Los Angeles Sparks   \n",
       "13  01HvzIJc9g9Tacx3    5.980       Dallas Wings    1.153  Los Angeles Sparks   \n",
       "19  02Fnfb4MrHvpjNjU    6.270       Dallas Wings    1.143  Los Angeles Sparks   \n",
       "20  02K8XDRbWRFR5bSY    2.500      Atlanta Dream    1.578       Indiana Fever   \n",
       "21  02P17de84YfajOsp    4.920    Connecticut Sun    1.204      Minnesota Lynx   \n",
       "27  03p5y67doxEohnxW    1.925      Indiana Fever    1.943         Chicago Sky   \n",
       "33  055F7RNwzZA78AM7    1.709    Phoenix Mercury    2.230    New York Liberty   \n",
       "34  05JE9n7BJtkbRhIl    4.420        Chicago Sky    1.238     Phoenix Mercury   \n",
       "36  05NBE1QyuTnGo56D    4.990    Connecticut Sun    1.200      Minnesota Lynx   \n",
       "44  07FrBApPCPrNwR6e    1.800    Phoenix Mercury    2.090    New York Liberty   \n",
       "49  07t0kBPeZqfHr1UQ    1.384     Minnesota Lynx    3.210  Washington Mystics   \n",
       "51  07vEKs6KZuvXXmqk    4.279        Chicago Sky    1.250     Phoenix Mercury   \n",
       "52  088OCcN4S1bdFbou    1.884   New York Liberty    1.990        Dallas Wings   \n",
       "56  08naOaC1vLb0kwpR    2.639      Atlanta Dream    1.526       Indiana Fever   \n",
       "63  09mLpD4z7w06FbQH    9.500  San Antonio Stars    1.076  Los Angeles Sparks   \n",
       "65  09ysgEYber0yHRIx    1.495    Phoenix Mercury    2.740       Indiana Fever   \n",
       "66  0A0KmXTUaJx5g0iw    4.250        Chicago Sky    1.251     Phoenix Mercury   \n",
       "68  0AOwSnbgorqLIdEz    4.529      Atlanta Dream    1.229       Seattle Storm   \n",
       "69  0AYAvYF8ToB6Z34N    4.350      Atlanta Dream    1.243       Seattle Storm   \n",
       "75  0BGRNVdWOJTKDAEd    5.980       Dallas Wings    1.153  Los Angeles Sparks   \n",
       "77  0Buz9nmtjmiL0M11    1.429      Seattle Storm    2.990       Indiana Fever   \n",
       "78  0C9AKZnOQ6CJUzEv    1.505     Minnesota Lynx    2.710  Washington Mystics   \n",
       "84  0DPsCB3hDazOHkNf    2.020   New York Liberty    1.854     Connecticut Sun   \n",
       "85  0DiRKzrjqT9QVH50    1.505     Minnesota Lynx    2.710  Washington Mystics   \n",
       "88  0DxEQUZ37jjse8hQ    1.480     Minnesota Lynx    2.790  Washington Mystics   \n",
       "90  0EAVrQKZorm8x9Aa    2.090   New York Liberty    1.800     Connecticut Sun   \n",
       "91  0EG1MNSR00vM2B5P    6.300       Dallas Wings    1.142  Los Angeles Sparks   \n",
       "92  0EGfnqnFENyNvHb2    1.884      Indiana Fever    1.990         Chicago Sky   \n",
       "98  0FHmNysbEoqfVo6W    9.500  San Antonio Stars    1.076  Los Angeles Sparks   \n",
       "\n",
       "             time bookmaker  \n",
       "4   1497743141693  pinnacle  \n",
       "12  1497383004869  pinnacle  \n",
       "13  1497403243224  pinnacle  \n",
       "19  1497368586760  pinnacle  \n",
       "20  1497566946403  pinnacle  \n",
       "21  1497715709949  pinnacle  \n",
       "27  1497816746549  pinnacle  \n",
       "33  1496594291368  pinnacle  \n",
       "34  1497663558519  pinnacle  \n",
       "36  1497735438413  pinnacle  \n",
       "44  1496596338168  pinnacle  \n",
       "49  1497018268436  pinnacle  \n",
       "51  1497655013886  pinnacle  \n",
       "52  1497646890269  pinnacle  \n",
       "56  1497551307729  pinnacle  \n",
       "63  1497548843384  pinnacle  \n",
       "65  1496874629256  pinnacle  \n",
       "66  1497654533800  pinnacle  \n",
       "68  1497386650525  pinnacle  \n",
       "69  1497360043182  pinnacle  \n",
       "75  1497404084747  pinnacle  \n",
       "77  1497015204488  pinnacle  \n",
       "78  1497023992081  pinnacle  \n",
       "84  1497457192330  pinnacle  \n",
       "85  1497022445080  pinnacle  \n",
       "88  1497027284197  pinnacle  \n",
       "90  1497473148329  pinnacle  \n",
       "91  1497384786699  pinnacle  \n",
       "92  1497797074964  pinnacle  \n",
       "98  1497579043494  pinnacle  "
      ]
     },
     "execution_count": 31,
     "metadata": {},
     "output_type": "execute_result"
    }
   ],
   "source": [
    "#THEN, CLEAN THE DATAFRAME. (EX: REPLACE \",\" BY \".\" IN THE ODDS, REMOVE _ID COLUMN, A TEAM SHOULD ONLY HAVE ONE STRING, REMOVE WRONG LINES...)\n",
    "\n",
    "def formatAllTeamNames(str):\n",
    "    if str == \"San Antonio Silver Stars\":\n",
    "        return \"San Antonio Stars\"\n",
    "    elif str == \"LA Sparks\":\n",
    "        return \"Los Angeles Sparks\"\n",
    "    else:\n",
    "        return str\n",
    "    \n",
    "def formatOdds(str): \n",
    "    return str.replace(\",\",\".\")\n",
    "\n",
    "def is_number(s):\n",
    "    try:\n",
    "        float(s)\n",
    "        return True\n",
    "    except ValueError:\n",
    "        return False\n",
    "    \n",
    "df[\"home_odd\"] = df[\"home_odd\"].apply(formatOdds)\n",
    "df[\"away_odd\"] = df[\"away_odd\"].apply(formatOdds)\n",
    "\n",
    "df = df[df[\"home_odd\"].apply(is_number)]\n",
    "\n",
    "df[\"home_team\"] = df[\"home_team\"].apply(formatAllTeamNames)\n",
    "df[\"away_team\"] = df[\"away_team\"].apply(formatAllTeamNames)\n",
    "\n",
    "df.head(30)"
   ]
  },
  {
   "cell_type": "code",
   "execution_count": 6,
   "metadata": {
    "collapsed": true
   },
   "outputs": [],
   "source": [
    "#Pinnacle Parsing, old way\n",
    "for line in open('../data/data/wnba/pinnacleOdds.db','r').readlines():\n",
    "    oddline = json.loads(line)\n",
    "    if isOddLineValid(oddline):\n",
    "        df = df.append({\"Time\":oddline[\"time\"],\"away_odd\":oddline[\"away_odd\"],\"home_odd\":oddline[\"home_odd\"],\"home_team\":oddline[\"home_team\"],\"away_team\":oddline[\"away_team\"],\"bookmaker\":\"pinnacle\"},ignore_index=True)"
   ]
  },
  {
   "cell_type": "code",
   "execution_count": 7,
   "metadata": {
    "collapsed": true
   },
   "outputs": [],
   "source": [
    "#Winamax parsing, old way\n",
    "for line in open('../data/data/wnba/winamaxOdds.db','r').readlines():\n",
    "    oddline = json.loads(line)\n",
    "    if isOddLineValid(oddline):\n",
    "        df = df.append({\"Time\":oddline[\"time\"],\"away_odd\":oddline[\"away_odd\"],\"home_odd\":oddline[\"home_odd\"],\"home_team\":oddline[\"home_team\"],\"away_team\":oddline[\"away_team\"],\"bookmaker\":\"winamax\"},ignore_index=True)"
   ]
  },
  {
   "cell_type": "code",
   "execution_count": 8,
   "metadata": {
    "collapsed": true
   },
   "outputs": [],
   "source": [
    "#Unibet parsing, old way\n",
    "for line in open('../data/data/wnba/unibetOdds.db','r').readlines():\n",
    "    oddline = json.loads(line)\n",
    "    if isOddLineValid(oddline):\n",
    "        df = df.append({\"Time\":oddline[\"time\"],\"away_odd\":oddline[\"away_odd\"],\"home_odd\":oddline[\"home_odd\"],\"home_team\":oddline[\"home_team\"],\"away_team\":oddline[\"away_team\"],\"bookmaker\":\"unibet\"},ignore_index=True)"
   ]
  },
  {
   "cell_type": "code",
   "execution_count": 9,
   "metadata": {
    "collapsed": true
   },
   "outputs": [],
   "source": [
    "def cleandf(dataframe): #Pinnacle Strategy Script\n",
    "    df = dataframe.copy()\n",
    "    listinddrop = []\n",
    "    listindduplicate = []\n",
    "    ind = 1\n",
    "    lastind = len(df.index)-1\n",
    "    while ind < lastind: \n",
    "        if(df.iloc[ind].away_odd == df.iloc[ind-1].away_odd and df.iloc[ind].home_odd == df.iloc[ind-1].home_odd and df.iloc[ind].home_odd == df.iloc[ind+1].home_odd and df.iloc[ind].away_odd == df.iloc[ind+1].away_odd):\n",
    "            listinddrop.append(df.iloc[ind].name)\n",
    "        if(df.iloc[ind].away_odd != df.iloc[ind-1].away_odd and df.iloc[ind].away_odd != df.iloc[ind+1].away_odd):\n",
    "            listindduplicate.append(df.iloc[ind].name)\n",
    "        ind = ind + 1\n",
    "    df = df.drop(listinddrop)\n",
    "    df = df.append(df[df.index.isin(listindduplicate)])\n",
    "    return df.sort_values(\"Time\")"
   ]
  },
  {
   "cell_type": "code",
   "execution_count": 10,
   "metadata": {
    "collapsed": true
   },
   "outputs": [],
   "source": [
    "def find_intervals(dfpinnacle,dfunibet): #Find intervals on cleaned df #Pinnacle Strategy Script\n",
    "    nIntPinn = len(dfpinnacle.index)/2\n",
    "    nIntUni = len(dfunibet.index)/2\n",
    "    listIntervals = []\n",
    "    for i in np.arange(0,nIntPinn): #loop on intervals of pinn\n",
    "        tbegPinn = dfpinnacle.iloc[2*i].Time\n",
    "        tendPinn = dfpinnacle.iloc[2*i+1].Time\n",
    "        homeoddPinn = float(dfpinnacle.iloc[2*i].home_odd)\n",
    "        awayoddPinn = float(dfpinnacle.iloc[2*i].away_odd)\n",
    "        marginPinn = 1/homeoddPinn + 1/awayoddPinn\n",
    "        for j in np.arange(0,nIntUni):\n",
    "            tbegUni = dfunibet.iloc[2*j].Time\n",
    "            tendUni = dfunibet.iloc[2*j+1].Time\n",
    "            case1 = ( tbegUni > tbegPinn-1 and tbegUni < tendPinn+1) and (tendUni > tendPinn-1)\n",
    "            case2 = ( tendUni > tbegPinn-1 and tendUni < tendPinn+1) and (tbegUni < tbegPinn+1)\n",
    "            case3 = ( tbegUni > tbegPinn-1 and tbegUni < tendPinn+1) and (tendUni < tendPinn+1)\n",
    "            case4 = (tbegUni < tbegPinn+1 and tendUni > tendPinn-1)\n",
    "            cond = case1 or case2 or case3 or case4\n",
    "            if cond:\n",
    "                homeoddUni = float(dfunibet.iloc[2*j].home_odd.replace(\",\",\".\"))\n",
    "                awayoddUni = float(dfunibet.iloc[2*j].away_odd.replace(\",\",\".\"))\n",
    "                book = dfunibet.iloc[2*j].bookmaker\n",
    "                if (homeoddUni > homeoddPinn*marginPinn):\n",
    "                    if case1:\n",
    "                        listIntervals.append({\n",
    "                            \"start\": tbegUni, \n",
    "                            \"end\": tendPinn, \n",
    "                            \"oddUni\": homeoddUni,\n",
    "                            \"oddtype\": \"home\",\n",
    "                            \"oddPinn\": homeoddPinn,\n",
    "                            \"bookmaker\": book\n",
    "                        })\n",
    "                    elif case2:\n",
    "                        listIntervals.append({\n",
    "                            \"start\": tbegPinn, \n",
    "                            \"end\": tendUni, \n",
    "                            \"oddUni\": homeoddUni,\n",
    "                            \"oddtype\": \"home\",\n",
    "                            \"oddPinn\": homeoddPinn,\n",
    "                            \"bookmaker\": book\n",
    "                        })\n",
    "                    elif case3: \n",
    "                        listIntervals.append({\n",
    "                            \"start\": tbegUni, \n",
    "                            \"end\": tendUni, \n",
    "                            \"oddUni\": homeoddUni,\n",
    "                            \"oddtype\": \"home\",\n",
    "                            \"oddPinn\": homeoddPinn,\n",
    "                            \"bookmaker\": book\n",
    "                        })\n",
    "                    elif case4:\n",
    "                        listIntervals.append({\n",
    "                            \"start\": tbegPinn, \n",
    "                            \"end\": tendPinn, \n",
    "                            \"oddUni\": homeoddUni,\n",
    "                            \"oddtype\": \"home\",\n",
    "                            \"oddPinn\": homeoddPinn,\n",
    "                            \"bookmaker\": book\n",
    "                        })\n",
    "                if (awayoddUni > awayoddPinn*marginPinn):\n",
    "                    if case1:\n",
    "                        listIntervals.append({\n",
    "                            \"start\": tbegUni, \n",
    "                            \"end\": tendPinn, \n",
    "                            \"oddUni\": awayoddUni,\n",
    "                            \"oddtype\": \"away\",\n",
    "                            \"oddPinn\": awayoddPinn,\n",
    "                            \"bookmaker\": book\n",
    "                        })\n",
    "                    elif case2:\n",
    "                        listIntervals.append({\n",
    "                            \"start\": tbegPinn, \n",
    "                            \"end\": tendUni, \n",
    "                            \"oddUni\": awayoddUni,\n",
    "                            \"oddtype\": \"away\",\n",
    "                            \"oddPinn\": awayoddPinn,\n",
    "                            \"bookmaker\": book\n",
    "                        })\n",
    "                    elif case3: \n",
    "                        listIntervals.append({\n",
    "                            \"start\": tbegUni, \n",
    "                            \"end\": tendUni, \n",
    "                            \"oddUni\": awayoddUni,\n",
    "                            \"oddtype\": \"away\",\n",
    "                            \"oddPinn\": awayoddPinn,\n",
    "                            \"bookmaker\": book\n",
    "                        })\n",
    "                    elif case4:\n",
    "                        listIntervals.append({\n",
    "                            \"start\": tbegPinn, \n",
    "                            \"end\": tendPinn, \n",
    "                            \"oddUni\": awayoddUni,\n",
    "                            \"oddtype\": \"away\",\n",
    "                            \"oddPinn\": awayoddPinn,\n",
    "                            \"bookmaker\": book\n",
    "                        })                     \n",
    "    return listIntervals"
   ]
  },
  {
   "cell_type": "code",
   "execution_count": 23,
   "metadata": {
    "collapsed": true
   },
   "outputs": [],
   "source": [
    "def cutDataframes(dfexpinnacle,dfexother):#Pinnacle Strategy Script\n",
    "    begpinnacle = dfexpinnacle.iloc[0].Time\n",
    "    begother = dfexother.iloc[0].Time  \n",
    "    endpinnacle = dfexpinnacle.iloc[-1].Time\n",
    "    endother = dfexother.iloc[-1].Time\n",
    "    begs = np.array([begpinnacle,begother])\n",
    "    begTime = np.amax(begs)\n",
    "    ends = np.array([endpinnacle,endother])\n",
    "    endTime = np.amin(ends)\n",
    "    dfOddspinnacle = dfexpinnacle[(dfexpinnacle[\"Time\"] > begTime-1) & (dfexpinnacle[\"Time\"] < endTime+1)]\n",
    "    dfOddsother = dfexother[(dfexother[\"Time\"] > begTime-1) & (dfexother[\"Time\"] < endTime+1)]\n",
    "    return {\"pinnacle\":dfOddspinnacle,\"other\":dfOddsother}"
   ]
  },
  {
   "cell_type": "code",
   "execution_count": 12,
   "metadata": {
    "collapsed": true
   },
   "outputs": [],
   "source": [
    "def isThereTwoGames(dfex):#Pinnacle Strategy Script\n",
    "    beg = dfex.iloc[0].Time\n",
    "    end = dfex.iloc[-1].Time\n",
    "    limitTime = 5*24*3600*1000\n",
    "    if (end-beg > limitTime):\n",
    "        return True\n",
    "    else:\n",
    "        return False"
   ]
  },
  {
   "cell_type": "code",
   "execution_count": 13,
   "metadata": {
    "collapsed": true
   },
   "outputs": [],
   "source": [
    "def cutInHalf(dfex):#Pinnacle Strategy Script\n",
    "    beg = dfex.iloc[0].Time\n",
    "    end = dfex.iloc[-1].Time\n",
    "    firstdf = dfex[(dfex[\"Time\"] < (beg + (end-beg)/2))]\n",
    "    seconddf = dfex[(dfex[\"Time\"] > (beg + (end-beg)/2))]\n",
    "    return {\"first\":firstdf,\"second\":seconddf}"
   ]
  },
  {
   "cell_type": "code",
   "execution_count": 92,
   "metadata": {},
   "outputs": [
    {
     "name": "stdout",
     "output_type": "stream",
     "text": [
      "[{'oddtype': 'home', 'start': 1496592786943.0, 'end': 1496593327892.0, 'oddUni': 2.3, 'oddPinn': 2.23}, {'oddtype': 'home', 'start': 1496593388716.0, 'end': 1496593869439.0, 'oddUni': 2.3, 'oddPinn': 2.09}, {'oddtype': 'home', 'start': 1496593929245.0, 'end': 1496593930204.0, 'oddUni': 2.4, 'oddPinn': 2.09}, {'oddtype': 'home', 'start': 1496593990650.0, 'end': 1496594591895.0, 'oddUni': 2.4, 'oddPinn': 2.23}, {'oddtype': 'home', 'start': 1496594652686.0, 'end': 1496596338168.0, 'oddUni': 2.4, 'oddPinn': 2.09}, {'oddtype': 'home', 'start': 1496597601732.0, 'end': 1496598145258.0, 'oddUni': 2.4, 'oddPinn': 2.23}, {'oddtype': 'home', 'start': 1496598806328.0, 'end': 1496601153337.0, 'oddUni': 2.4, 'oddPinn': 2.23}, {'oddtype': 'home', 'start': 1496601815604.0, 'end': 1496602357367.0, 'oddUni': 2.4, 'oddPinn': 2.23}, {'oddtype': 'home', 'start': 1496602416888.0, 'end': 1496602778538.0, 'oddUni': 2.4, 'oddPinn': 2.09}]\n"
     ]
    }
   ],
   "source": [
    "listInts = find_intervals(dfOddspinnacleCleaned,dfOddsunibetCleaned)\n",
    "print listInts"
   ]
  },
  {
   "cell_type": "code",
   "execution_count": 54,
   "metadata": {
    "collapsed": true
   },
   "outputs": [],
   "source": [
    "def getIntervals(dfex,book):#Pinnacle Strategy Script\n",
    "    dfexpinnacle = dfex[(dfex[\"bookmaker\"] == \"pinnacle\")].sort_values(\"Time\")\n",
    "    dfexother = dfex[(dfex[\"bookmaker\"] == book)].sort_values(\"Time\")\n",
    "    if len(dfexother) == 0:\n",
    "        return []\n",
    "    else: \n",
    "        cutdfs = cutDataframes(dfexpinnacle,dfexother)\n",
    "        cutdfpinnacle = cutdfs[\"pinnacle\"]\n",
    "        cutdfother = cutdfs[\"other\"]\n",
    "        cleandfpinnacle = cleandf(cutdfpinnacle)\n",
    "        cleandfother = cleandf(cutdfother)\n",
    "        ints = find_intervals(cleandfpinnacle,cleandfother)\n",
    "        return ints"
   ]
  },
  {
   "cell_type": "code",
   "execution_count": 55,
   "metadata": {
    "collapsed": true
   },
   "outputs": [],
   "source": [
    "def getPinnacleStrat(dataframe,homeTeam,awayTeam):#Pinnacle Strategy Script\n",
    "    bookmakers = [\"winamax\",\"unibet\"]\n",
    "    df = dataframe.copy()\n",
    "    if homeTeam == \"San Antonio Silver Stars\":\n",
    "        dfex = df[(df[\"home_team\"].isin(['San Antonio Silver Stars','San Antonio Stars'])) & (df[\"away_team\"] == awayTeam)]\n",
    "    elif awayTeam == \"San Antonio Silver Stars\":\n",
    "        dfex = df[(df[\"home_team\"] == homeTeam) & (df[\"away_team\"].isin(['San Antonio Silver Stars','San Antonio Stars']))]\n",
    "    else:\n",
    "        dfex = df[(df[\"home_team\"] == homeTeam) & (df[\"away_team\"] == awayTeam)]   \n",
    "    if len(dfex[dfex.bookmaker == \"pinnacle\"].index) < 10:\n",
    "        return {\"nbGames\":0,\"intervals\":[]}\n",
    "    elif isThereTwoGames(dfex):\n",
    "        print \"Two Games!\"\n",
    "        dfex1 = cutInHalf(dfex)[\"first\"]\n",
    "        ints1 = []\n",
    "        for book in bookmakers: \n",
    "            interval = getIntervals(dfex1,book)\n",
    "            ints1 = ints1 + interval         \n",
    "        dfex2 = cutInHalf(dfex)[\"second\"]\n",
    "        ints2 = []\n",
    "        for book in bookmakers: \n",
    "            interval = getIntervals(dfex2,book)\n",
    "            ints2 = ints2 + interval \n",
    "        ints = ints1 + ints2\n",
    "        return {\"nbGames\":2,\"intervals\":ints}\n",
    "    else:\n",
    "        #dfexpinnacle = dfex[(dfex[\"bookmaker\"] == \"pinnacle\")].sort_values(\"Time\")\n",
    "        #print dfexpinnacle[dfexpinnacle.away_odd < 2]\n",
    "        ints = []\n",
    "        for book in bookmakers: \n",
    "            #if homeTeam == \"Connecticut Sun\" and awayTeam == \"Phoenix Mercury\":\n",
    "                #print \"yes\"\n",
    "                #print dfex[(dfex[\"bookmaker\"] == \"unibet\")]\n",
    "            interval = getIntervals(dfex,book)\n",
    "            ints = ints + interval \n",
    "        return {\"nbGames\":1,\"intervals\":ints}\n",
    "            \n",
    "        "
   ]
  },
  {
   "cell_type": "code",
   "execution_count": 16,
   "metadata": {
    "collapsed": true
   },
   "outputs": [],
   "source": [
    "def cutThreeDataFrames(dfexpinnacle,dfexother1,dfexother2):#Pinnacle Strategy Script\n",
    "    begpinnacle = dfexpinnacle.iloc[0].Time\n",
    "    begother1 = dfexother1.iloc[0].Time  \n",
    "    begother2 = dfexother2.iloc[0].Time  \n",
    "    endpinnacle = dfexpinnacle.iloc[-1].Time\n",
    "    endother1 = dfexother1.iloc[-1].Time\n",
    "    endother2 = dfexother2.iloc[-1].Time\n",
    "    begs = np.array([begpinnacle,begother1,begother2])\n",
    "    begTime = np.amax(begs)\n",
    "    ends = np.array([endpinnacle,endother1,endother2])\n",
    "    endTime = np.amin(ends)\n",
    "    dfOddspinnacle = dfexpinnacle[(dfexpinnacle[\"Time\"] > begTime-1) & (dfexpinnacle[\"Time\"] < endTime+1)]\n",
    "    dfOddsother1 = dfexother1[(dfexother1[\"Time\"] > begTime-1) & (dfexother1[\"Time\"] < endTime+1)]\n",
    "    dfOddsother2 = dfexother2[(dfexother2[\"Time\"] > begTime-1) & (dfexother2[\"Time\"] < endTime+1)]\n",
    "    return {\"pinnacle\":dfOddspinnacle,\"other1\":dfOddsother1,\"other2\":dsOddsother2}"
   ]
  },
  {
   "cell_type": "code",
   "execution_count": 18,
   "metadata": {},
   "outputs": [
    {
     "data": {
      "text/html": [
       "<div>\n",
       "<style>\n",
       "    .dataframe thead tr:only-child th {\n",
       "        text-align: right;\n",
       "    }\n",
       "\n",
       "    .dataframe thead th {\n",
       "        text-align: left;\n",
       "    }\n",
       "\n",
       "    .dataframe tbody tr th {\n",
       "        vertical-align: top;\n",
       "    }\n",
       "</style>\n",
       "<table border=\"1\" class=\"dataframe\">\n",
       "  <thead>\n",
       "    <tr style=\"text-align: right;\">\n",
       "      <th></th>\n",
       "      <th>Time</th>\n",
       "      <th>away_odd</th>\n",
       "      <th>away_team</th>\n",
       "      <th>bookmaker</th>\n",
       "      <th>home_odd</th>\n",
       "      <th>home_team</th>\n",
       "    </tr>\n",
       "  </thead>\n",
       "  <tbody>\n",
       "    <tr>\n",
       "      <th>0</th>\n",
       "      <td>1.497743e+12</td>\n",
       "      <td>5.270</td>\n",
       "      <td>Connecticut Sun</td>\n",
       "      <td>pinnacle</td>\n",
       "      <td>1.184</td>\n",
       "      <td>Minnesota Lynx</td>\n",
       "    </tr>\n",
       "    <tr>\n",
       "      <th>1</th>\n",
       "      <td>1.497383e+12</td>\n",
       "      <td>6.300</td>\n",
       "      <td>Dallas Wings</td>\n",
       "      <td>pinnacle</td>\n",
       "      <td>1.142</td>\n",
       "      <td>Los Angeles Sparks</td>\n",
       "    </tr>\n",
       "    <tr>\n",
       "      <th>2</th>\n",
       "      <td>1.497403e+12</td>\n",
       "      <td>5.980</td>\n",
       "      <td>Dallas Wings</td>\n",
       "      <td>pinnacle</td>\n",
       "      <td>1.153</td>\n",
       "      <td>Los Angeles Sparks</td>\n",
       "    </tr>\n",
       "    <tr>\n",
       "      <th>3</th>\n",
       "      <td>1.497369e+12</td>\n",
       "      <td>6.270</td>\n",
       "      <td>Dallas Wings</td>\n",
       "      <td>pinnacle</td>\n",
       "      <td>1.143</td>\n",
       "      <td>Los Angeles Sparks</td>\n",
       "    </tr>\n",
       "    <tr>\n",
       "      <th>4</th>\n",
       "      <td>1.497567e+12</td>\n",
       "      <td>2.500</td>\n",
       "      <td>Atlanta Dream</td>\n",
       "      <td>pinnacle</td>\n",
       "      <td>1.578</td>\n",
       "      <td>Indiana Fever</td>\n",
       "    </tr>\n",
       "  </tbody>\n",
       "</table>\n",
       "</div>"
      ],
      "text/plain": [
       "           Time away_odd        away_team bookmaker home_odd  \\\n",
       "0  1.497743e+12    5.270  Connecticut Sun  pinnacle    1.184   \n",
       "1  1.497383e+12    6.300     Dallas Wings  pinnacle    1.142   \n",
       "2  1.497403e+12    5.980     Dallas Wings  pinnacle    1.153   \n",
       "3  1.497369e+12    6.270     Dallas Wings  pinnacle    1.143   \n",
       "4  1.497567e+12    2.500    Atlanta Dream  pinnacle    1.578   \n",
       "\n",
       "            home_team  \n",
       "0      Minnesota Lynx  \n",
       "1  Los Angeles Sparks  \n",
       "2  Los Angeles Sparks  \n",
       "3  Los Angeles Sparks  \n",
       "4       Indiana Fever  "
      ]
     },
     "execution_count": 18,
     "metadata": {},
     "output_type": "execute_result"
    }
   ],
   "source": [
    "df.head()"
   ]
  },
  {
   "cell_type": "code",
   "execution_count": 56,
   "metadata": {},
   "outputs": [
    {
     "name": "stdout",
     "output_type": "stream",
     "text": [
      "home  Atlanta Dream  away:  Atlanta Dream\n",
      "home  Atlanta Dream  away:  Connecticut Sun\n",
      "home  Atlanta Dream  away:  New York Liberty\n",
      "home  Atlanta Dream  away:  Dallas Wings\n",
      "home  Atlanta Dream  away:  Phoenix Mercury\n",
      "home  Atlanta Dream  away:  Minnesota Lynx\n",
      "home  Atlanta Dream  away:  Los Angeles Sparks\n",
      "home  Atlanta Dream  away:  San Antonio Silver Stars\n",
      "home  Atlanta Dream  away:  Washington Mystics\n",
      "home  Atlanta Dream  away:  Indiana Fever\n",
      "home  Atlanta Dream  away:  Chicago Sky\n",
      "home  Atlanta Dream  away:  Seattle Storm\n",
      "home  Connecticut Sun  away:  Atlanta Dream\n",
      "home  Connecticut Sun  away:  Connecticut Sun\n",
      "home  Connecticut Sun  away:  New York Liberty\n",
      "home  Connecticut Sun  away:  Dallas Wings\n",
      "home  Connecticut Sun  away:  Phoenix Mercury\n",
      "home  Connecticut Sun  away:  Minnesota Lynx\n",
      "home  Connecticut Sun  away:  Los Angeles Sparks\n",
      "home  Connecticut Sun  away:  San Antonio Silver Stars\n",
      "home  Connecticut Sun  away:  Washington Mystics\n",
      "home  Connecticut Sun  away:  Indiana Fever\n",
      "home  Connecticut Sun  away:  Chicago Sky\n",
      "home  Connecticut Sun  away:  Seattle Storm\n",
      "home  New York Liberty  away:  Atlanta Dream\n",
      "home  New York Liberty  away:  Connecticut Sun\n",
      "home  New York Liberty  away:  New York Liberty\n",
      "home  New York Liberty  away:  Dallas Wings\n",
      "home  New York Liberty  away:  Phoenix Mercury\n",
      "home  New York Liberty  away:  Phoenix Mercury\n",
      "[{'oddtype': 'home', 'end': 1496591968166.0, 'oddPinn': 2.09, 'oddUni': 2.25, 'start': 1496591785001.0, 'bookmaker': 'winamax'}, {'oddtype': 'home', 'end': 1496593930204.0, 'oddPinn': 2.09, 'oddUni': 2.3, 'start': 1496593388716.0, 'bookmaker': 'winamax'}, {'oddtype': 'home', 'end': 1496596338168.0, 'oddPinn': 2.09, 'oddUni': 2.3, 'start': 1496594652686.0, 'bookmaker': 'winamax'}, {'oddtype': 'home', 'end': 1496601153337.0, 'oddPinn': 2.23, 'oddUni': 2.35, 'start': 1496601032735.0, 'bookmaker': 'winamax'}, {'oddtype': 'home', 'end': 1496602357367.0, 'oddPinn': 2.23, 'oddUni': 2.35, 'start': 1496601815604.0, 'bookmaker': 'winamax'}, {'oddtype': 'home', 'end': 1496602957028.0, 'oddPinn': 2.09, 'oddUni': 2.35, 'start': 1496602416888.0, 'bookmaker': 'winamax'}, {'oddtype': 'home', 'end': 1496593869439.0, 'oddPinn': 2.09, 'oddUni': 2.3, 'start': 1496593388716.0, 'bookmaker': 'unibet'}, {'oddtype': 'home', 'end': 1496593930204.0, 'oddPinn': 2.09, 'oddUni': 2.4, 'start': 1496593929245.0, 'bookmaker': 'unibet'}, {'oddtype': 'home', 'end': 1496594591895.0, 'oddPinn': 2.23, 'oddUni': 2.4, 'start': 1496593990650.0, 'bookmaker': 'unibet'}, {'oddtype': 'home', 'end': 1496596338168.0, 'oddPinn': 2.09, 'oddUni': 2.4, 'start': 1496594652686.0, 'bookmaker': 'unibet'}, {'oddtype': 'home', 'end': 1496598145258.0, 'oddPinn': 2.23, 'oddUni': 2.4, 'start': 1496597601732.0, 'bookmaker': 'unibet'}, {'oddtype': 'home', 'end': 1496601153337.0, 'oddPinn': 2.23, 'oddUni': 2.4, 'start': 1496598806328.0, 'bookmaker': 'unibet'}, {'oddtype': 'home', 'end': 1496602357367.0, 'oddPinn': 2.23, 'oddUni': 2.4, 'start': 1496601815604.0, 'bookmaker': 'unibet'}, {'oddtype': 'home', 'end': 1496602778538.0, 'oddPinn': 2.09, 'oddUni': 2.4, 'start': 1496602416888.0, 'bookmaker': 'unibet'}]\n",
      "home  New York Liberty  away:  Minnesota Lynx\n",
      "home  New York Liberty  away:  Los Angeles Sparks\n",
      "home  New York Liberty  away:  San Antonio Silver Stars\n",
      "home  New York Liberty  away:  Washington Mystics\n",
      "home  New York Liberty  away:  Indiana Fever\n",
      "home  New York Liberty  away:  Chicago Sky\n",
      "home  New York Liberty  away:  Seattle Storm\n",
      "home  Dallas Wings  away:  Atlanta Dream\n",
      "home  Dallas Wings  away:  Connecticut Sun\n",
      "home  Dallas Wings  away:  New York Liberty\n",
      "home  Dallas Wings  away:  Dallas Wings\n",
      "home  Dallas Wings  away:  Phoenix Mercury\n",
      "home  Dallas Wings  away:  Minnesota Lynx\n",
      "home  Dallas Wings  away:  Los Angeles Sparks\n",
      "home  Dallas Wings  away:  San Antonio Silver Stars\n",
      "home  Dallas Wings  away:  Washington Mystics\n",
      "home  Dallas Wings  away:  Indiana Fever\n",
      "home  Dallas Wings  away:  Chicago Sky\n",
      "home  Dallas Wings  away:  Seattle Storm\n",
      "home  Dallas Wings  away:  Seattle Storm\n",
      "[{'oddtype': 'home', 'end': 1498918727112.0, 'oddPinn': 1.515, 'oddUni': 1.58, 'start': 1498918423617.0, 'bookmaker': 'unibet'}, {'oddtype': 'home', 'end': 1498919329276.0, 'oddPinn': 1.483, 'oddUni': 1.58, 'start': 1498918786964.0, 'bookmaker': 'unibet'}, {'oddtype': 'home', 'end': 1498919930295.0, 'oddPinn': 1.471, 'oddUni': 1.58, 'start': 1498919388975.0, 'bookmaker': 'unibet'}, {'oddtype': 'home', 'end': 1498921134453.0, 'oddPinn': 1.5, 'oddUni': 1.58, 'start': 1498919991297.0, 'bookmaker': 'unibet'}, {'oddtype': 'home', 'end': 1498921736549.0, 'oddPinn': 1.487, 'oddUni': 1.58, 'start': 1498921194653.0, 'bookmaker': 'unibet'}, {'oddtype': 'home', 'end': 1498922696105.0, 'oddPinn': 1.478, 'oddUni': 1.58, 'start': 1498921795297.0, 'bookmaker': 'unibet'}]\n",
      "home  Phoenix Mercury  away:  Atlanta Dream\n",
      "home  Phoenix Mercury  away:  Connecticut Sun\n",
      "home  Phoenix Mercury  away:  New York Liberty\n",
      "home  Phoenix Mercury  away:  Dallas Wings\n",
      "home  Phoenix Mercury  away:  Phoenix Mercury\n",
      "Two Games!\n",
      "home  Phoenix Mercury  away:  Minnesota Lynx\n",
      "home  Phoenix Mercury  away:  Los Angeles Sparks\n",
      "home  Phoenix Mercury  away:  San Antonio Silver Stars\n",
      "home  Phoenix Mercury  away:  Washington Mystics\n",
      "home  Phoenix Mercury  away:  Indiana Fever\n",
      "home  Phoenix Mercury  away:  Chicago Sky\n",
      "home  Phoenix Mercury  away:  Seattle Storm\n",
      "home  Minnesota Lynx  away:  Atlanta Dream\n",
      "home  Minnesota Lynx  away:  Connecticut Sun\n",
      "home  Minnesota Lynx  away:  New York Liberty\n",
      "home  Minnesota Lynx  away:  Dallas Wings\n",
      "home  Minnesota Lynx  away:  Phoenix Mercury\n",
      "home  Minnesota Lynx  away:  Minnesota Lynx\n",
      "home  Minnesota Lynx  away:  Los Angeles Sparks\n",
      "home  Minnesota Lynx  away:  San Antonio Silver Stars\n",
      "home  Minnesota Lynx  away:  Washington Mystics\n",
      "home  Minnesota Lynx  away:  Indiana Fever\n",
      "home  Minnesota Lynx  away:  Chicago Sky\n",
      "home  Minnesota Lynx  away:  Seattle Storm\n",
      "home  Los Angeles Sparks  away:  Atlanta Dream\n",
      "home  Los Angeles Sparks  away:  Connecticut Sun\n",
      "home  Los Angeles Sparks  away:  New York Liberty\n",
      "Two Games!\n"
     ]
    },
    {
     "ename": "IndexError",
     "evalue": "single positional indexer is out-of-bounds",
     "output_type": "error",
     "traceback": [
      "\u001b[0;31m---------------------------------------------------------------------------\u001b[0m",
      "\u001b[0;31mIndexError\u001b[0m                                Traceback (most recent call last)",
      "\u001b[0;32m<ipython-input-56-821cffdc401d>\u001b[0m in \u001b[0;36m<module>\u001b[0;34m()\u001b[0m\n\u001b[1;32m      4\u001b[0m \u001b[0;32mfor\u001b[0m \u001b[0mhomeT\u001b[0m \u001b[0;32min\u001b[0m \u001b[0mteams\u001b[0m\u001b[0;34m:\u001b[0m\u001b[0;34m\u001b[0m\u001b[0m\n\u001b[1;32m      5\u001b[0m     \u001b[0;32mfor\u001b[0m \u001b[0mawayT\u001b[0m \u001b[0;32min\u001b[0m \u001b[0mteams\u001b[0m\u001b[0;34m:\u001b[0m\u001b[0;34m\u001b[0m\u001b[0m\n\u001b[0;32m----> 6\u001b[0;31m         \u001b[0mobj\u001b[0m \u001b[0;34m=\u001b[0m \u001b[0mgetPinnacleStrat\u001b[0m\u001b[0;34m(\u001b[0m\u001b[0mdf\u001b[0m\u001b[0;34m,\u001b[0m\u001b[0mhomeT\u001b[0m\u001b[0;34m,\u001b[0m\u001b[0mawayT\u001b[0m\u001b[0;34m)\u001b[0m\u001b[0;34m\u001b[0m\u001b[0m\n\u001b[0m\u001b[1;32m      7\u001b[0m         \u001b[0mgameCount\u001b[0m \u001b[0;34m=\u001b[0m \u001b[0mgameCount\u001b[0m \u001b[0;34m+\u001b[0m \u001b[0mobj\u001b[0m\u001b[0;34m[\u001b[0m\u001b[0;34m\"nbGames\"\u001b[0m\u001b[0;34m]\u001b[0m\u001b[0;34m\u001b[0m\u001b[0m\n\u001b[1;32m      8\u001b[0m         \u001b[0;32mprint\u001b[0m \u001b[0;34m'home '\u001b[0m\u001b[0;34m,\u001b[0m\u001b[0mhomeT\u001b[0m\u001b[0;34m,\u001b[0m\u001b[0;34m' away: '\u001b[0m\u001b[0;34m,\u001b[0m\u001b[0mawayT\u001b[0m\u001b[0;34m\u001b[0m\u001b[0m\n",
      "\u001b[0;32m<ipython-input-55-db2795845c33>\u001b[0m in \u001b[0;36mgetPinnacleStrat\u001b[0;34m(dataframe, homeTeam, awayTeam)\u001b[0m\n\u001b[1;32m     20\u001b[0m         \u001b[0mints2\u001b[0m \u001b[0;34m=\u001b[0m \u001b[0;34m[\u001b[0m\u001b[0;34m]\u001b[0m\u001b[0;34m\u001b[0m\u001b[0m\n\u001b[1;32m     21\u001b[0m         \u001b[0;32mfor\u001b[0m \u001b[0mbook\u001b[0m \u001b[0;32min\u001b[0m \u001b[0mbookmakers\u001b[0m\u001b[0;34m:\u001b[0m\u001b[0;34m\u001b[0m\u001b[0m\n\u001b[0;32m---> 22\u001b[0;31m             \u001b[0minterval\u001b[0m \u001b[0;34m=\u001b[0m \u001b[0mgetIntervals\u001b[0m\u001b[0;34m(\u001b[0m\u001b[0mdfex2\u001b[0m\u001b[0;34m,\u001b[0m\u001b[0mbook\u001b[0m\u001b[0;34m)\u001b[0m\u001b[0;34m\u001b[0m\u001b[0m\n\u001b[0m\u001b[1;32m     23\u001b[0m             \u001b[0mints2\u001b[0m \u001b[0;34m=\u001b[0m \u001b[0mints2\u001b[0m \u001b[0;34m+\u001b[0m \u001b[0minterval\u001b[0m\u001b[0;34m\u001b[0m\u001b[0m\n\u001b[1;32m     24\u001b[0m         \u001b[0mints\u001b[0m \u001b[0;34m=\u001b[0m \u001b[0mints1\u001b[0m \u001b[0;34m+\u001b[0m \u001b[0mints2\u001b[0m\u001b[0;34m\u001b[0m\u001b[0m\n",
      "\u001b[0;32m<ipython-input-54-b6428930ebc8>\u001b[0m in \u001b[0;36mgetIntervals\u001b[0;34m(dfex, book)\u001b[0m\n\u001b[1;32m      5\u001b[0m         \u001b[0;32mreturn\u001b[0m \u001b[0;34m[\u001b[0m\u001b[0;34m]\u001b[0m\u001b[0;34m\u001b[0m\u001b[0m\n\u001b[1;32m      6\u001b[0m     \u001b[0;32melse\u001b[0m\u001b[0;34m:\u001b[0m\u001b[0;34m\u001b[0m\u001b[0m\n\u001b[0;32m----> 7\u001b[0;31m         \u001b[0mcutdfs\u001b[0m \u001b[0;34m=\u001b[0m \u001b[0mcutDataframes\u001b[0m\u001b[0;34m(\u001b[0m\u001b[0mdfexpinnacle\u001b[0m\u001b[0;34m,\u001b[0m\u001b[0mdfexother\u001b[0m\u001b[0;34m)\u001b[0m\u001b[0;34m\u001b[0m\u001b[0m\n\u001b[0m\u001b[1;32m      8\u001b[0m         \u001b[0mcutdfpinnacle\u001b[0m \u001b[0;34m=\u001b[0m \u001b[0mcutdfs\u001b[0m\u001b[0;34m[\u001b[0m\u001b[0;34m\"pinnacle\"\u001b[0m\u001b[0;34m]\u001b[0m\u001b[0;34m\u001b[0m\u001b[0m\n\u001b[1;32m      9\u001b[0m         \u001b[0mcutdfother\u001b[0m \u001b[0;34m=\u001b[0m \u001b[0mcutdfs\u001b[0m\u001b[0;34m[\u001b[0m\u001b[0;34m\"other\"\u001b[0m\u001b[0;34m]\u001b[0m\u001b[0;34m\u001b[0m\u001b[0m\n",
      "\u001b[0;32m<ipython-input-23-218f23496945>\u001b[0m in \u001b[0;36mcutDataframes\u001b[0;34m(dfexpinnacle, dfexother)\u001b[0m\n\u001b[1;32m      1\u001b[0m \u001b[0;32mdef\u001b[0m \u001b[0mcutDataframes\u001b[0m\u001b[0;34m(\u001b[0m\u001b[0mdfexpinnacle\u001b[0m\u001b[0;34m,\u001b[0m\u001b[0mdfexother\u001b[0m\u001b[0;34m)\u001b[0m\u001b[0;34m:\u001b[0m\u001b[0;34m\u001b[0m\u001b[0m\n\u001b[0;32m----> 2\u001b[0;31m     \u001b[0mbegpinnacle\u001b[0m \u001b[0;34m=\u001b[0m \u001b[0mdfexpinnacle\u001b[0m\u001b[0;34m.\u001b[0m\u001b[0miloc\u001b[0m\u001b[0;34m[\u001b[0m\u001b[0;36m0\u001b[0m\u001b[0;34m]\u001b[0m\u001b[0;34m.\u001b[0m\u001b[0mTime\u001b[0m\u001b[0;34m\u001b[0m\u001b[0m\n\u001b[0m\u001b[1;32m      3\u001b[0m     \u001b[0mbegother\u001b[0m \u001b[0;34m=\u001b[0m \u001b[0mdfexother\u001b[0m\u001b[0;34m.\u001b[0m\u001b[0miloc\u001b[0m\u001b[0;34m[\u001b[0m\u001b[0;36m0\u001b[0m\u001b[0;34m]\u001b[0m\u001b[0;34m.\u001b[0m\u001b[0mTime\u001b[0m\u001b[0;34m\u001b[0m\u001b[0m\n\u001b[1;32m      4\u001b[0m     \u001b[0mendpinnacle\u001b[0m \u001b[0;34m=\u001b[0m \u001b[0mdfexpinnacle\u001b[0m\u001b[0;34m.\u001b[0m\u001b[0miloc\u001b[0m\u001b[0;34m[\u001b[0m\u001b[0;34m-\u001b[0m\u001b[0;36m1\u001b[0m\u001b[0;34m]\u001b[0m\u001b[0;34m.\u001b[0m\u001b[0mTime\u001b[0m\u001b[0;34m\u001b[0m\u001b[0m\n\u001b[1;32m      5\u001b[0m     \u001b[0mendother\u001b[0m \u001b[0;34m=\u001b[0m \u001b[0mdfexother\u001b[0m\u001b[0;34m.\u001b[0m\u001b[0miloc\u001b[0m\u001b[0;34m[\u001b[0m\u001b[0;34m-\u001b[0m\u001b[0;36m1\u001b[0m\u001b[0;34m]\u001b[0m\u001b[0;34m.\u001b[0m\u001b[0mTime\u001b[0m\u001b[0;34m\u001b[0m\u001b[0m\n",
      "\u001b[0;32m/home/alexgoup/.local/lib/python2.7/site-packages/pandas/core/indexing.pyc\u001b[0m in \u001b[0;36m__getitem__\u001b[0;34m(self, key)\u001b[0m\n\u001b[1;32m   1326\u001b[0m         \u001b[0;32melse\u001b[0m\u001b[0;34m:\u001b[0m\u001b[0;34m\u001b[0m\u001b[0m\n\u001b[1;32m   1327\u001b[0m             \u001b[0mkey\u001b[0m \u001b[0;34m=\u001b[0m \u001b[0mcom\u001b[0m\u001b[0;34m.\u001b[0m\u001b[0m_apply_if_callable\u001b[0m\u001b[0;34m(\u001b[0m\u001b[0mkey\u001b[0m\u001b[0;34m,\u001b[0m \u001b[0mself\u001b[0m\u001b[0;34m.\u001b[0m\u001b[0mobj\u001b[0m\u001b[0;34m)\u001b[0m\u001b[0;34m\u001b[0m\u001b[0m\n\u001b[0;32m-> 1328\u001b[0;31m             \u001b[0;32mreturn\u001b[0m \u001b[0mself\u001b[0m\u001b[0;34m.\u001b[0m\u001b[0m_getitem_axis\u001b[0m\u001b[0;34m(\u001b[0m\u001b[0mkey\u001b[0m\u001b[0;34m,\u001b[0m \u001b[0maxis\u001b[0m\u001b[0;34m=\u001b[0m\u001b[0;36m0\u001b[0m\u001b[0;34m)\u001b[0m\u001b[0;34m\u001b[0m\u001b[0m\n\u001b[0m\u001b[1;32m   1329\u001b[0m \u001b[0;34m\u001b[0m\u001b[0m\n\u001b[1;32m   1330\u001b[0m     \u001b[0;32mdef\u001b[0m \u001b[0m_is_scalar_access\u001b[0m\u001b[0;34m(\u001b[0m\u001b[0mself\u001b[0m\u001b[0;34m,\u001b[0m \u001b[0mkey\u001b[0m\u001b[0;34m)\u001b[0m\u001b[0;34m:\u001b[0m\u001b[0;34m\u001b[0m\u001b[0m\n",
      "\u001b[0;32m/home/alexgoup/.local/lib/python2.7/site-packages/pandas/core/indexing.pyc\u001b[0m in \u001b[0;36m_getitem_axis\u001b[0;34m(self, key, axis)\u001b[0m\n\u001b[1;32m   1747\u001b[0m \u001b[0;34m\u001b[0m\u001b[0m\n\u001b[1;32m   1748\u001b[0m             \u001b[0;31m# validate the location\u001b[0m\u001b[0;34m\u001b[0m\u001b[0;34m\u001b[0m\u001b[0m\n\u001b[0;32m-> 1749\u001b[0;31m             \u001b[0mself\u001b[0m\u001b[0;34m.\u001b[0m\u001b[0m_is_valid_integer\u001b[0m\u001b[0;34m(\u001b[0m\u001b[0mkey\u001b[0m\u001b[0;34m,\u001b[0m \u001b[0maxis\u001b[0m\u001b[0;34m)\u001b[0m\u001b[0;34m\u001b[0m\u001b[0m\n\u001b[0m\u001b[1;32m   1750\u001b[0m \u001b[0;34m\u001b[0m\u001b[0m\n\u001b[1;32m   1751\u001b[0m             \u001b[0;32mreturn\u001b[0m \u001b[0mself\u001b[0m\u001b[0;34m.\u001b[0m\u001b[0m_get_loc\u001b[0m\u001b[0;34m(\u001b[0m\u001b[0mkey\u001b[0m\u001b[0;34m,\u001b[0m \u001b[0maxis\u001b[0m\u001b[0;34m=\u001b[0m\u001b[0maxis\u001b[0m\u001b[0;34m)\u001b[0m\u001b[0;34m\u001b[0m\u001b[0m\n",
      "\u001b[0;32m/home/alexgoup/.local/lib/python2.7/site-packages/pandas/core/indexing.pyc\u001b[0m in \u001b[0;36m_is_valid_integer\u001b[0;34m(self, key, axis)\u001b[0m\n\u001b[1;32m   1636\u001b[0m         \u001b[0ml\u001b[0m \u001b[0;34m=\u001b[0m \u001b[0mlen\u001b[0m\u001b[0;34m(\u001b[0m\u001b[0max\u001b[0m\u001b[0;34m)\u001b[0m\u001b[0;34m\u001b[0m\u001b[0m\n\u001b[1;32m   1637\u001b[0m         \u001b[0;32mif\u001b[0m \u001b[0mkey\u001b[0m \u001b[0;34m>=\u001b[0m \u001b[0ml\u001b[0m \u001b[0;32mor\u001b[0m \u001b[0mkey\u001b[0m \u001b[0;34m<\u001b[0m \u001b[0;34m-\u001b[0m\u001b[0ml\u001b[0m\u001b[0;34m:\u001b[0m\u001b[0;34m\u001b[0m\u001b[0m\n\u001b[0;32m-> 1638\u001b[0;31m             \u001b[0;32mraise\u001b[0m \u001b[0mIndexError\u001b[0m\u001b[0;34m(\u001b[0m\u001b[0;34m\"single positional indexer is out-of-bounds\"\u001b[0m\u001b[0;34m)\u001b[0m\u001b[0;34m\u001b[0m\u001b[0m\n\u001b[0m\u001b[1;32m   1639\u001b[0m         \u001b[0;32mreturn\u001b[0m \u001b[0mTrue\u001b[0m\u001b[0;34m\u001b[0m\u001b[0m\n\u001b[1;32m   1640\u001b[0m \u001b[0;34m\u001b[0m\u001b[0m\n",
      "\u001b[0;31mIndexError\u001b[0m: single positional indexer is out-of-bounds"
     ]
    }
   ],
   "source": [
    "#Pinnacle Strategy Script\n",
    "teams = ['Atlanta Dream','Connecticut Sun','New York Liberty','Dallas Wings','Phoenix Mercury','Minnesota Lynx','Los Angeles Sparks','San Antonio Silver Stars','Washington Mystics','Indiana Fever','Chicago Sky','Seattle Storm']\n",
    "gameCount = 0\n",
    "stratCount = 0\n",
    "for homeT in teams:\n",
    "    for awayT in teams:\n",
    "        obj = getPinnacleStrat(df,homeT,awayT)\n",
    "        gameCount = gameCount + obj[\"nbGames\"]\n",
    "        print 'home ',homeT,' away: ',awayT\n",
    "        if len(obj[\"intervals\"]) > 0:\n",
    "            print 'home ',homeT,' away: ',awayT\n",
    "            print obj['intervals']\n",
    "            stratCount = stratCount + 1\n",
    "print \"Number of games with good info: \",gameCount\n",
    "print \"Number of working pinnacle strategy: \",stratCount"
   ]
  },
  {
   "cell_type": "code",
   "execution_count": 87,
   "metadata": {
    "collapsed": true
   },
   "outputs": [],
   "source": [
    "def getBegEndOdds(dfex):#Estimator Performance Script\n",
    "    dfexbook = dfex.sort_values(\"time\")\n",
    "    bookBeg = dfexbook.iloc[0]\n",
    "    bookBegMargin = 1/float(bookBeg.home_odd.replace(\",\",\".\")) + 1/float(bookBeg.away_odd.replace(\",\",\".\"))\n",
    "    bookEnd = dfexbook.iloc[-1]\n",
    "    bookEndMargin = 1/float(bookEnd.home_odd.replace(\",\",\".\")) + 1/float(bookEnd.away_odd.replace(\",\",\".\"))\n",
    "    return { \n",
    "        \"beg\":{\"home\":100/float(bookBeg.home_odd.replace(\",\",\".\"))/bookBegMargin,\"away\":100/float(bookBeg.away_odd.replace(\",\",\".\"))/bookBegMargin},\n",
    "        \"end\":{\"home\":100/float(bookEnd.home_odd.replace(\",\",\".\"))/bookEndMargin,\"away\":100/float(bookEnd.away_odd.replace(\",\",\".\"))/bookEndMargin},\n",
    "    }"
   ]
  },
  {
   "cell_type": "code",
   "execution_count": 88,
   "metadata": {
    "collapsed": true
   },
   "outputs": [],
   "source": [
    "def areAllBooksPresent(dfex,bookmakers): #Estimator Performance Script\n",
    "    allBooksPresent = True\n",
    "    for book in bookmakers:\n",
    "        boolLength = len(dfex[(dfex[\"bookmaker\"] == book)].index) > 10\n",
    "        allBooksPresent = allBooksPresent and boolLength\n",
    "    return allBooksPresent"
   ]
  },
  {
   "cell_type": "code",
   "execution_count": 89,
   "metadata": {
    "collapsed": true
   },
   "outputs": [],
   "source": [
    "def isThereTwoGames(dfex):#Pinnacle Strategy Script AND Estimator Performance Script\n",
    "    beg = dfex.iloc[0].time\n",
    "    end = dfex.iloc[-1].time\n",
    "    limitTime = 5*24*3600*1000\n",
    "    if (end-beg > limitTime):\n",
    "        return True\n",
    "    else:\n",
    "        return False"
   ]
  },
  {
   "cell_type": "code",
   "execution_count": 90,
   "metadata": {
    "collapsed": true
   },
   "outputs": [],
   "source": [
    "def cutInHalf(dfex):#Pinnacle Strategy Script AND Estimator Performance Script\n",
    "    beg = dfex.iloc[0].time\n",
    "    end = dfex.iloc[-1].time\n",
    "    firstdf = dfex[(dfex[\"time\"] < (beg + (end-beg)/2))]\n",
    "    seconddf = dfex[(dfex[\"time\"] > (beg + (end-beg)/2))]\n",
    "    return {\"first\":firstdf,\"second\":seconddf}"
   ]
  },
  {
   "cell_type": "code",
   "execution_count": 91,
   "metadata": {
    "collapsed": true
   },
   "outputs": [],
   "source": [
    "def cutGameBooks(dfex,bookmakers,homeTeam,awayTeam): #Estimator Performance Script\n",
    "    begs = []\n",
    "    ends = []\n",
    "    for book in bookmakers: \n",
    "        dfexbook = dfex[dfex[\"bookmaker\"] == book]\n",
    "        dfexbook = dfexbook.sort_values(\"time\")\n",
    "        beg = dfexbook.iloc[0].time\n",
    "        end = dfexbook.iloc[-1].time\n",
    "        begs.append(beg)\n",
    "        ends.append(end)\n",
    "    begGame = max(begs)\n",
    "    endGame = min(ends)\n",
    "    res = dfex[(dfex[\"time\"] > begGame-1) & (dfex[\"time\"] < endGame + 1)]\n",
    "    return res"
   ]
  },
  {
   "cell_type": "code",
   "execution_count": 92,
   "metadata": {
    "collapsed": true
   },
   "outputs": [],
   "source": [
    "def getListGames(df,homeTeam,awayTeam,bookmakers):#Estimator Performance Script\n",
    "    list = []\n",
    "    dfex = df[(df[\"home_team\"] == homeTeam) & (df[\"away_team\"] == awayTeam)]\n",
    "    if len(dfex.index > 0):\n",
    "        if isThereTwoGames(dfex):\n",
    "            twoGamesDfex = cutInHalf(dfex)\n",
    "            firstdfex = twoGamesDfex[\"first\"]\n",
    "            if areAllBooksPresent(firstdfex,bookmakers):\n",
    "                firstdfexCut = cutGameBooks(firstdfex,bookmakers,homeTeam,awayTeam)\n",
    "                list.append(firstdfexCut)\n",
    "            seconddfex = twoGamesDfex[\"second\"]\n",
    "            if areAllBooksPresent(seconddfex,bookmakers):\n",
    "                seconddfexCut = cutGameBooks(seconddfex,bookmakers,homeTeam,awayTeam)\n",
    "                list.append(seconddfexCut)\n",
    "        else:\n",
    "            if areAllBooksPresent(dfex,bookmakers):\n",
    "                dfexCut = cutGameBooks(dfex,bookmakers,homeTeam,awayTeam)\n",
    "                #if homeTeam == \"Connecticut Sun\" and awayTeam == \"New York Liberty\":\n",
    "                    #print dfexCut\n",
    "                list.append(dfexCut)\n",
    "            #else:\n",
    "                #print 'no'\n",
    "                #print homeTeam\n",
    "                #print awayTeam\n",
    "    return list\n",
    "        "
   ]
  },
  {
   "cell_type": "code",
   "execution_count": 93,
   "metadata": {
    "collapsed": true
   },
   "outputs": [],
   "source": [
    "def formatDateStr(str):#Estimator Performance Script\n",
    "    year = 2017\n",
    "    listDate = str.split(\".\")\n",
    "    day = int(listDate[0])\n",
    "    month = int(listDate[1])\n",
    "    hourmin = listDate[2].split(\":\")\n",
    "    hour = int(hourmin[0])\n",
    "    minutes = int(hourmin[1])\n",
    "    secs = (datetime.datetime(year,month,day,hour,minutes)-datetime.datetime(1970,1,1)).total_seconds()\n",
    "    res = secs*1000\n",
    "    return res"
   ]
  },
  {
   "cell_type": "code",
   "execution_count": 94,
   "metadata": {
    "collapsed": true
   },
   "outputs": [],
   "source": [
    "def formatNameStr(str):#Estimator Performance Script\n",
    "    return str[:-2]"
   ]
  },
  {
   "cell_type": "code",
   "execution_count": 95,
   "metadata": {
    "collapsed": true
   },
   "outputs": [],
   "source": [
    "def formatScoreStr(str):#Estimator Performance Script\n",
    "    str = str.split(\"\\n\")[0]\n",
    "    score = str.split()\n",
    "    home = int(score[0])\n",
    "    away = int(score[2])\n",
    "    if home > away:\n",
    "        resu = \"W\"\n",
    "    else:\n",
    "        resu = \"L\"\n",
    "    return resu"
   ]
  },
  {
   "cell_type": "code",
   "execution_count": 96,
   "metadata": {},
   "outputs": [
    {
     "data": {
      "text/html": [
       "<div>\n",
       "<style>\n",
       "    .dataframe thead tr:only-child th {\n",
       "        text-align: right;\n",
       "    }\n",
       "\n",
       "    .dataframe thead th {\n",
       "        text-align: left;\n",
       "    }\n",
       "\n",
       "    .dataframe tbody tr th {\n",
       "        vertical-align: top;\n",
       "    }\n",
       "</style>\n",
       "<table border=\"1\" class=\"dataframe\">\n",
       "  <thead>\n",
       "    <tr style=\"text-align: right;\">\n",
       "      <th></th>\n",
       "      <th>Date</th>\n",
       "      <th>Home</th>\n",
       "      <th>Away</th>\n",
       "      <th>Score</th>\n",
       "    </tr>\n",
       "  </thead>\n",
       "  <tbody>\n",
       "    <tr>\n",
       "      <th>0</th>\n",
       "      <td>1.502410e+12</td>\n",
       "      <td>Chicago Sky</td>\n",
       "      <td>San Antonio Stars</td>\n",
       "      <td>W</td>\n",
       "    </tr>\n",
       "    <tr>\n",
       "      <th>1</th>\n",
       "      <td>1.502410e+12</td>\n",
       "      <td>Dallas Wings</td>\n",
       "      <td>Phoenix Mercury</td>\n",
       "      <td>L</td>\n",
       "    </tr>\n",
       "    <tr>\n",
       "      <th>2</th>\n",
       "      <td>1.502233e+12</td>\n",
       "      <td>Atlanta Dream</td>\n",
       "      <td>Minnesota Lynx</td>\n",
       "      <td>L</td>\n",
       "    </tr>\n",
       "    <tr>\n",
       "      <th>3</th>\n",
       "      <td>1.502233e+12</td>\n",
       "      <td>Connecticut Sun</td>\n",
       "      <td>Seattle Storm</td>\n",
       "      <td>W</td>\n",
       "    </tr>\n",
       "    <tr>\n",
       "      <th>4</th>\n",
       "      <td>1.502233e+12</td>\n",
       "      <td>New York Liberty</td>\n",
       "      <td>Indiana Fever</td>\n",
       "      <td>W</td>\n",
       "    </tr>\n",
       "  </tbody>\n",
       "</table>\n",
       "</div>"
      ],
      "text/plain": [
       "           Date              Home               Away Score\n",
       "0  1.502410e+12       Chicago Sky  San Antonio Stars     W\n",
       "1  1.502410e+12      Dallas Wings    Phoenix Mercury     L\n",
       "2  1.502233e+12     Atlanta Dream     Minnesota Lynx     L\n",
       "3  1.502233e+12   Connecticut Sun      Seattle Storm     W\n",
       "4  1.502233e+12  New York Liberty      Indiana Fever     W"
      ]
     },
     "execution_count": 96,
     "metadata": {},
     "output_type": "execute_result"
    }
   ],
   "source": [
    "def getResultsFromExcel():#Estimator Performance Script\n",
    "    resultsdf = pd.read_excel('wnbaresults.xlsx')\n",
    "    resultsdf[\"Date\"] = resultsdf[\"Date\"].apply(formatDateStr)\n",
    "    resultsdf[\"Home\"] = resultsdf[\"Home\"].apply(formatNameStr)\n",
    "    resultsdf[\"Away\"] = resultsdf[\"Away\"].apply(formatNameStr)\n",
    "    resultsdf[\"Score\"] = resultsdf[\"Score\"].apply(formatScoreStr)    \n",
    "    return resultsdf\n",
    "resultsdf = getResultsFromExcel()\n",
    "resultsdf.head()"
   ]
  },
  {
   "cell_type": "code",
   "execution_count": 154,
   "metadata": {
    "collapsed": true
   },
   "outputs": [],
   "source": [
    "def getPointsFromBet(dataframe,resultsdf,homeTeam,awayTeam):#Estimator Performance Script\n",
    "    df = dataframe.copy()\n",
    "    gamesPointsList = []\n",
    "    bookmakers = [\"winamax\",\"unibet\",\"pinnacle\"]\n",
    "    listFullGames = getListGames(df,homeTeam,awayTeam,bookmakers)\n",
    "    for dfexCut in listFullGames:\n",
    "        #print listFullGames[1]\n",
    "        toAppend = {}\n",
    "        if len(dfexCut.index) == 0:\n",
    "            print 'dfexcut length 0!'\n",
    "            print homeTeam\n",
    "            print awayTeam\n",
    "        for book in bookmakers:\n",
    "            dfexCutBook = dfexCut[(dfexCut[\"bookmaker\"] == book)]\n",
    "            dfexCutBook = dfexCutBook.sort_values(\"time\")\n",
    "            if len(dfexCutBook.index) > 0:\n",
    "                chances = getBegEndOdds(dfexCutBook)\n",
    "                endtime = dfexCutBook.iloc[-1].time\n",
    "                resultsdfCut = resultsdf[(resultsdf[\"Home\"] == homeTeam) & (resultsdf[\"Away\"] == awayTeam) & (resultsdf[\"Date\"] - endtime < 3600*1000) & (resultsdf[\"Date\"] - endtime > -1800*1000)]\n",
    "                if len(resultsdfCut.index) == 1:\n",
    "                    strW = resultsdfCut.iloc[0].Score\n",
    "                    prm = -1\n",
    "                    if book == \"winamax\":\n",
    "                        if chances[\"end\"][\"home\"] > 50:\n",
    "                            chances[\"end\"][\"home\"] = chances[\"end\"][\"home\"] - prm\n",
    "                            chances[\"end\"][\"away\"] = chances[\"end\"][\"away\"] + prm\n",
    "                        else:\n",
    "                            chances[\"end\"][\"home\"] = chances[\"end\"][\"home\"] + prm\n",
    "                            chances[\"end\"][\"away\"] = chances[\"end\"][\"away\"] - prm                           \n",
    "                    if strW == 'W':\n",
    "                        begPoints = chances[\"beg\"][\"home\"]\n",
    "                        endPoints = chances[\"end\"][\"home\"]\n",
    "                    elif strW == 'L':\n",
    "                        begPoints = chances[\"beg\"][\"away\"]\n",
    "                        endPoints = chances[\"end\"][\"away\"]\n",
    "                    toAppend[book] = {\"beg\":begPoints, \"end\":endPoints}\n",
    "        if len(toAppend.keys()) > 0:\n",
    "            gamesPointsList.append(toAppend)\n",
    "    return gamesPointsList"
   ]
  },
  {
   "cell_type": "code",
   "execution_count": 155,
   "metadata": {},
   "outputs": [
    {
     "name": "stdout",
     "output_type": "stream",
     "text": [
      "{'unibet': {'end': 37.83783783783784, 'beg': 38.69209809264304}, 'winamax': {'end': 36.83783783783784, 'beg': 39.226519337016576}, 'pinnacle': {'end': 36.63865546218487, 'beg': 37.33365593999516}}\n",
      "{'unibet': {'end': 58.33333333333334, 'beg': 51.42857142857144}, 'winamax': {'end': 57.81818181818181, 'beg': 52.298850574712645}, 'pinnacle': {'end': 58.49861913130806, 'beg': 52.79423126448622}}\n",
      "{'unibet': {'end': 67.50000000000001, 'beg': 64.93506493506493}, 'winamax': {'end': 67.66666666666667, 'beg': 63.82978723404256}, 'pinnacle': {'end': 68.29377519032693, 'beg': 67.97209092955211}}\n",
      "{'unibet': {'end': 72.72727272727272, 'beg': 73.95143487858721}, 'winamax': {'end': 73.41379310344828, 'beg': 73.36343115124153}, 'pinnacle': {'end': 75.52581261950287, 'beg': 76.97947214076247}}\n",
      "{'unibet': {'end': 71.75925925925927, 'beg': 68.7960687960688}, 'winamax': {'end': 72.5962441314554, 'beg': 68.40796019900498}, 'pinnacle': {'end': 74.55365901510693, 'beg': 69.8737483674358}}\n",
      "{'unibet': {'end': 76.68711656441718, 'beg': 78.125}, 'winamax': {'end': 78.23577235772358, 'beg': 78.27788649706459}, 'pinnacle': {'end': 80.05942555298779, 'beg': 81.37347130761995}}\n",
      "{'unibet': {'end': 54.54545454545454, 'beg': 48.57142857142858}, 'winamax': {'end': 55.28571428571429, 'beg': 48.85057471264367}, 'pinnacle': {'end': 55.02943434860507, 'beg': 48.631905007743946}}\n",
      "{'unibet': {'end': 47.22222222222223, 'beg': 52.85714285714286}, 'winamax': {'end': 46.701149425287355, 'beg': 54.02298850574713}, 'pinnacle': {'end': 45.65496026659831, 'beg': 51.91115702479338}}\n",
      "{'unibet': {'end': 52.85714285714286, 'beg': 48.57142857142858}, 'winamax': {'end': 55.02298850574713, 'beg': 49.13294797687861}, 'pinnacle': {'end': 54.6293921518338, 'beg': 52.14248838409912}}\n",
      "{'unibet': {'end': 85.85164835164835, 'beg': 85.85164835164835}, 'winamax': {'end': 85.22664624808574, 'beg': 83.59621451104101}, 'pinnacle': {'end': 90.34296028880865, 'beg': 90.34296028880865}}\n",
      "{'unibet': {'end': 58.01104972375689, 'beg': 59.39226519337017}, 'winamax': {'end': 57.81818181818181, 'beg': 58.82352941176472}, 'pinnacle': {'end': 59.05905905905906, 'beg': 60.36615536862939}}\n",
      "{'unibet': {'end': 83.96946564885496, 'beg': 80.50089445438282}, 'winamax': {'end': 83.64462809917356, 'beg': 80.7899461400359}, 'pinnacle': {'end': 87.16286607246208, 'beg': 85.8649259352247}}\n",
      "{'unibet': {'end': 69.87951807228916, 'beg': 68.7960687960688}, 'winamax': {'end': 70.51219512195122, 'beg': 68.96551724137932}, 'pinnacle': {'end': 72.22914072229142, 'beg': 69.8737483674358}}\n",
      "{'unibet': {'end': 68.7960687960688, 'beg': 67.50000000000001}, 'winamax': {'end': 69.96551724137932, 'beg': 68.40796019900498}, 'pinnacle': {'end': 71.14036950520281, 'beg': 71.63865546218489}}\n",
      "{'unibet': {'end': 43.66197183098592, 'beg': 40.607734806629836}, 'winamax': {'end': 42.18181818181818, 'beg': 40.443213296398895}, 'pinnacle': {'end': 42.77032160040517, 'beg': 40.48330842052815}}\n",
      "{'unibet': {'end': 68.7960687960688, 'beg': 54.54545454545454}, 'winamax': {'end': 69.5785536159601, 'beg': 56.249999999999986}, 'pinnacle': {'end': 70.52246828639002, 'beg': 58.1570996978852}}\n",
      "{'unibet': {'end': 29.07801418439717, 'beg': 26.048565121412807}, 'winamax': {'end': 28.42583732057416, 'beg': 27.107061503416855}, 'pinnacle': {'end': 28.020029209263505, 'beg': 23.827392120075054}}\n",
      "{'unibet': {'end': 62.16216216216216, 'beg': 64.93506493506493}, 'winamax': {'end': 62.47540983606558, 'beg': 63.17204301075268}, 'pinnacle': {'end': 62.211421628189555, 'beg': 66.04866743916571}}\n",
      "{'unibet': {'end': 36.0, 'beg': 41.66666666666667}, 'winamax': {'end': 36.49999999999999, 'beg': 42.090395480225986}, 'pinnacle': {'end': 36.36363636363635, 'beg': 35.58398483771618}}\n",
      "{'unibet': {'end': 52.991452991453, 'beg': 48.57142857142858}, 'winamax': {'end': 53.02312138728323, 'beg': 52.298850574712645}, 'pinnacle': {'end': 52.14248838409912, 'beg': 52.36007222078926}}\n",
      "{'unibet': {'end': 70.58823529411765, 'beg': 70.58823529411765}, 'winamax': {'end': 71.04830917874396, 'beg': 70.57416267942584}, 'pinnacle': {'end': 71.97997079073649, 'beg': 72.84632698997339}}\n",
      "{'unibet': {'end': 69.87951807228916, 'beg': 68.7960687960688}, 'winamax': {'end': 69.96551724137932, 'beg': 68.40796019900498}, 'pinnacle': {'end': 72.05331112036652, 'beg': 71.29257457160989}}\n",
      "{'unibet': {'end': 64.93506493506493, 'beg': 68.7960687960688}, 'winamax': {'end': 65.64379947229551, 'beg': 69.68215158924205}, 'pinnacle': {'end': 65.45114539504442, 'beg': 71.54882154882154}}\n",
      "{'unibet': {'end': 37.665782493368695, 'beg': 43.66197183098592}, 'winamax': {'end': 39.277777777777786, 'beg': 40.277777777777786}, 'pinnacle': {'end': 38.540646425073454, 'beg': 36.20071684587814}}\n",
      "{'unibet': {'end': 70.92198581560284, 'beg': 71.75925925925927}, 'winamax': {'end': 72.09004739336494, 'beg': 71.92575406032482}, 'pinnacle': {'end': 72.84632698997339, 'beg': 73.71794871794872}}\n",
      "{'unibet': {'end': 63.17204301075268, 'beg': 66.15776081424936}, 'winamax': {'end': 64.17204301075267, 'beg': 66.06217616580311}, 'pinnacle': {'end': 64.29418742586002, 'beg': 65.9391687949849}}\n",
      "{'unibet': {'end': 71.75925925925927, 'beg': 69.87951807228916}, 'winamax': {'end': 72.5962441314554, 'beg': 68.40796019900498}, 'pinnacle': {'end': 74.40944881889763, 'beg': 73.86703932920744}}\n",
      "{'unibet': {'end': 68.7960687960688, 'beg': 71.75925925925927}, 'winamax': {'end': 69.40796019900498, 'beg': 71.92575406032482}, 'pinnacle': {'end': 71.39839459231095, 'beg': 75.46447040796782}}\n",
      "{'unibet': {'end': 74.67532467532469, 'beg': 74.67532467532469}, 'winamax': {'end': 75.83731019522776, 'beg': 75.26881720430107}, 'pinnacle': {'end': 75.94936708860759, 'beg': 77.77579116753084}}\n",
      "{'unibet': {'end': 51.42857142857144, 'beg': 50.00000000000001}, 'winamax': {'end': 53.298850574712645, 'beg': 50.57471264367816}, 'pinnacle': {'end': 51.91115702479338, 'beg': 48.413721949961314}}\n",
      "{'unibet': {'end': 29.07801418439717, 'beg': 30.120481927710845}, 'winamax': {'end': 30.034482758620694, 'beg': 31.034482758620694}, 'pinnacle': {'end': 27.396133278486225, 'beg': 27.698363372695255}}\n",
      "{'unibet': {'end': 75.31380753138076, 'beg': 73.95143487858721}, 'winamax': {'end': 77.44628099173555, 'beg': 74.39824945295405}, 'pinnacle': {'end': 78.11947684694238, 'beg': 77.14754696334124}}\n",
      "dfexcut length 0!\n",
      "Minnesota Lynx\n",
      "Atlanta Dream\n",
      "{'unibet': {'end': 21.875, 'beg': 20.560747663551403}, 'winamax': {'end': 21.764227642276428, 'beg': 21.72211350293542}, 'pinnacle': {'end': 18.34521227145956, 'beg': 18.042813455657488}}\n",
      "{'unibet': {'end': 81.31487889273356, 'beg': 86.43617021276596}, 'winamax': {'end': 81.64516129032259, 'beg': 83.33333333333333}, 'pinnacle': {'end': 84.6546627250739, 'beg': 87.93859649122805}}\n",
      "{'unibet': {'end': 84.79532163742691, 'beg': 83.96946564885496}, 'winamax': {'end': 83.92682926829269, 'beg': 83.59621451104101}, 'pinnacle': {'end': 88.68120456905503, 'beg': 88.68120456905503}}\n",
      "{'unibet': {'end': 86.43617021276596, 'beg': 85.85164835164835}, 'winamax': {'end': 85.46455505279033, 'beg': 83.98133748055987}, 'pinnacle': {'end': 90.74331365057311, 'beg': 89.56521739130434}}\n",
      "{'unibet': {'end': 69.1358024691358, 'beg': 68.7960687960688}, 'winamax': {'end': 69.40796019900498, 'beg': 68.40796019900498}, 'pinnacle': {'end': 70.2398962610763, 'beg': 71.29257457160989}}\n",
      "{'unibet': {'end': 91.59034138218152, 'beg': 87.39076154806493}, 'winamax': {'end': 86.59201141226819, 'beg': 85.59201141226819}, 'pinnacle': {'end': 93.14761024557697, 'beg': 93.14761024557697}}\n",
      "{'unibet': {'end': 82.07705192629815, 'beg': 81.31487889273356}, 'winamax': {'end': 82.12874779541445, 'beg': 81.12874779541445}, 'pinnacle': {'end': 84.24807903402855, 'beg': 84.87182892814452}}\n",
      "{'unibet': {'end': 69.87951807228916, 'beg': 68.7960687960688}, 'winamax': {'end': 70.68215158924205, 'beg': 68.40796019900498}, 'pinnacle': {'end': 70.95674408693799, 'beg': 70.95674408693799}}\n",
      "40\n",
      "{'unibet': {'end': 80.50089445438282, 'beg': 81.31487889273356}, 'winamax': {'end': 81.2919708029197, 'beg': 81.12874779541445}, 'pinnacle': {'end': 83.12781082257362, 'beg': 84.8}}\n",
      "41\n",
      "{'unibet': {'end': 82.07705192629815, 'beg': 80.50089445438282}, 'winamax': {'end': 82.59722222222223, 'beg': 81.12874779541445}, 'pinnacle': {'end': 85.01383946223802, 'beg': 85.8649259352247}}\n",
      "42\n",
      "{'unibet': {'end': 71.75925925925927, 'beg': 74.67532467532469}, 'winamax': {'end': 72.92575406032482, 'beg': 74.56140350877193}, 'pinnacle': {'end': 74.2133386107263, 'beg': 78.46906675987418}}\n",
      "43\n"
     ]
    },
    {
     "name": "stdout",
     "output_type": "stream",
     "text": [
      "{'unibet': {'end': 86.43617021276596, 'beg': 86.43617021276596}, 'winamax': {'end': 84.98133748055987, 'beg': 84.46455505279033}, 'pinnacle': {'end': 89.82602118003025, 'beg': 90.0592373195113}}\n",
      "44\n",
      "{'unibet': {'end': 69.87951807228916, 'beg': 68.7960687960688}, 'winamax': {'end': 69.5785536159601, 'beg': 67.8391959798995}, 'pinnacle': {'end': 71.96495619524406, 'beg': 71.29257457160989}}\n",
      "45\n",
      "{'unibet': {'end': 84.79532163742691, 'beg': 84.79532163742691}, 'winamax': {'end': 84.59621451104101, 'beg': 83.98133748055987}, 'pinnacle': {'end': 88.32, 'beg': 88.68120456905503}}\n",
      "46\n",
      "{'unibet': {'end': 18.685121107266436, 'beg': 17.922948073701843}, 'winamax': {'end': 18.354838709677423, 'beg': 18.54419410745234}, 'pinnacle': {'end': 14.30020283975659, 'beg': 14.383997961523761}}\n",
      "47\n",
      "{'unibet': {'end': 76.68711656441718, 'beg': 81.31487889273356}, 'winamax': {'end': 77.60455486542445, 'beg': 79.7773654916512}, 'pinnacle': {'end': 79.644533869886, 'beg': 84.6546627250739}}\n",
      "48\n",
      "{'unibet': {'end': 73.95143487858721, 'beg': 73.95143487858721}, 'winamax': {'end': 74.36343115124153, 'beg': 73.36343115124153}, 'pinnacle': {'end': 75.82938388625593, 'beg': 75.01453770110487}}\n",
      "49\n",
      "{'unibet': {'end': 24.628450106157114, 'beg': 24.628450106157114}, 'winamax': {'end': 23.73118279569892, 'beg': 24.050632911392405}, 'pinnacle': {'end': 22.224208832469163, 'beg': 21.34421674192428}}\n",
      "50\n",
      "{'unibet': {'end': 81.21827411167514, 'beg': 76.04166666666666}, 'winamax': {'end': 80.39508506616257, 'beg': 77.46478873239435}, 'pinnacle': {'end': 83.02986161689729, 'beg': 80.46163849154745}}\n",
      "51\n",
      "{'unibet': {'end': 81.31487889273356, 'beg': 80.50089445438282}, 'winamax': {'end': 81.64516129032259, 'beg': 79.7773654916512}, 'pinnacle': {'end': 84.8, 'beg': 83.66308648954211}}\n",
      "52\n",
      "{'unibet': {'end': 69.87951807228916, 'beg': 63.66047745358089}, 'winamax': {'end': 70.51219512195122, 'beg': 64.47368421052632}, 'pinnacle': {'end': 72.05331112036652, 'beg': 68.61216306527066}}\n",
      "53\n",
      "{'unibet': {'end': 45.45454545454545, 'beg': 47.14285714285714}, 'winamax': {'end': 43.57142857142858, 'beg': 46.551724137931025}, 'pinnacle': {'end': 44.39908139831591, 'beg': 45.65496026659831}}\n",
      "54\n",
      "dfexcut length 0!\n",
      "San Antonio Stars\n",
      "Seattle Storm\n",
      "{'unibet': {'end': 59.39226519337017, 'beg': 57.422969187675065}, 'winamax': {'end': 59.495821727019504, 'beg': 57.14285714285715}, 'pinnacle': {'end': 59.686645113155926, 'beg': 58.09859154929578}}\n",
      "55\n",
      "{'unibet': {'end': 70.92198581560284, 'beg': 69.87951807228916}, 'winamax': {'end': 71.04830917874396, 'beg': 69.1358024691358}, 'pinnacle': {'end': 73.05657305657306, 'beg': 69.8737483674358}}\n",
      "56\n",
      "{'unibet': {'end': 26.048565121412807, 'beg': 27.27272727272727}, 'winamax': {'end': 25.63656884875846, 'beg': 27.586206896551726}, 'pinnacle': {'end': 23.419247172260338, 'beg': 23.133504965060684}}\n",
      "57\n",
      "{'unibet': {'end': 64.93506493506493, 'beg': 66.15776081424936}, 'winamax': {'end': 64.82978723404256, 'beg': 66.06217616580311}, 'pinnacle': {'end': 66.52083813032466, 'beg': 68.29377519032693}}\n",
      "58\n",
      "{'unibet': {'end': 60.32171581769437, 'beg': 59.139784946236546}, 'winamax': {'end': 61.43956043956044, 'beg': 56.497175141242934}, 'pinnacle': {'end': 61.79775280898876, 'beg': 60.52371541501976}}\n",
      "59\n",
      "{'unibet': {'end': 60.810810810810814, 'beg': 56.33802816901409}, 'winamax': {'end': 59.82352941176472, 'beg': 55.68181818181819}, 'pinnacle': {'end': 60.85777668227754, 'beg': 55.79617834394904}}\n",
      "60\n",
      "{'unibet': {'end': 67.50000000000001, 'beg': 66.15776081424936}, 'winamax': {'end': 68.25888324873097, 'beg': 65.27415143603132}, 'pinnacle': {'end': 68.79715934309809, 'beg': 67.86922209695602}}\n",
      "61\n",
      "{'unibet': {'end': 67.50000000000001, 'beg': 67.50000000000001}, 'winamax': {'end': 67.06217616580311, 'beg': 64.64379947229551}, 'pinnacle': {'end': 68.29377519032693, 'beg': 66.77374942634236}}\n",
      "62\n",
      "{'unibet': {'end': 26.048565121412807, 'beg': 23.312883435582823}, 'winamax': {'end': 25.63656884875846, 'beg': 23.155737704918035}, 'pinnacle': {'end': 24.110522331566994, 'beg': 21.880523153057617}}\n",
      "63\n",
      "{'unibet': {'end': 69.87951807228916, 'beg': 68.7960687960688}, 'winamax': {'end': 71.04830917874396, 'beg': 69.1358024691358}, 'pinnacle': {'end': 71.96495619524406, 'beg': 71.29257457160989}}\n",
      "64\n",
      "{'unibet': {'end': 58.33333333333334, 'beg': 52.85714285714286}, 'winamax': {'end': 59.659217877094974, 'beg': 53.14285714285714}, 'pinnacle': {'end': 59.381237524950095, 'beg': 52.79423126448622}}\n",
      "65\n",
      "{'unibet': {'end': 40.607734806629836, 'beg': 41.66666666666667}, 'winamax': {'end': 41.25352112676056, 'beg': 42.25352112676056}, 'pinnacle': {'end': 39.80173482032218, 'beg': 39.142223317722454}}\n",
      "66\n",
      "{'unibet': {'end': 35.064935064935064, 'beg': 36.3395225464191}, 'winamax': {'end': 33.72584856396867, 'beg': 36.82795698924731}, 'pinnacle': {'end': 32.77119416590702, 'beg': 35.95238095238095}}\n",
      "67\n",
      "{'unibet': {'end': 12.826899128268993, 'beg': 14.14835164835165}, 'winamax': {'end': 15.403785488958992, 'beg': 16.149068322981368}, 'pinnacle': {'end': 10.116585182399398, 'beg': 9.71781145086653}}\n",
      "68\n",
      "{'unibet': {'end': 66.66666666666667, 'beg': 64.93506493506493}, 'winamax': {'end': 65.64379947229551, 'beg': 67.25888324873097}, 'pinnacle': {'end': 65.9391687949849, 'beg': 70.33441208198491}}\n",
      "69\n",
      "{'unibet': {'end': 51.42857142857144, 'beg': 51.42857142857144}, 'winamax': {'end': 51.57471264367816, 'beg': 51.72413793103449}, 'pinnacle': {'end': 50.0, 'beg': 51.368094992256076}}\n",
      "70\n",
      "{'unibet': {'end': 57.422969187675065, 'beg': 54.54545454545454}, 'winamax': {'end': 57.81818181818181, 'beg': 54.28571428571429}, 'pinnacle': {'end': 57.22967839959483, 'beg': 55.41368743615935}}\n",
      "71\n",
      "{'unibet': {'end': 24.628450106157114, 'beg': 27.27272727272727}, 'winamax': {'end': 23.468085106382976, 'beg': 27.107061503416855}, 'pinnacle': {'end': 22.42620590352772, 'beg': 22.224208832469163}}\n",
      "72\n",
      "{'unibet': {'end': 69.87951807228916, 'beg': 59.39226519337017}, 'winamax': {'end': 70.51219512195122, 'beg': 58.659217877094974}, 'pinnacle': {'end': 71.97997079073649, 'beg': 60.064532141970716}}\n",
      "73\n",
      "{'unibet': {'end': 57.422969187675065, 'beg': 60.273972602739725}, 'winamax': {'end': 58.74647887323944, 'beg': 60.6060606060606}, 'pinnacle': {'end': 58.33542871511189, 'beg': 61.598631141530184}}\n",
      "74\n",
      "{'unibet': {'end': 38.69209809264304, 'beg': 43.66197183098592}, 'winamax': {'end': 38.39393939393939, 'beg': 43.18181818181818}, 'pinnacle': {'end': 37.46970431410567, 'beg': 42.58978249873545}}\n",
      "75\n",
      "{'unibet': {'end': 67.50000000000001, 'beg': 66.15776081424936}, 'winamax': {'end': 68.25888324873097, 'beg': 65.27415143603132}, 'pinnacle': {'end': 69.8737483674358, 'beg': 67.86922209695602}}\n",
      "76\n",
      "{'unibet': {'end': 29.74238875878221, 'beg': 32.50000000000001}, 'winamax': {'end': 32.9378238341969, 'beg': 34.55497382198953}, 'pinnacle': {'end': 31.706224809673092, 'beg': 32.13077790304397}}\n",
      "77\n",
      "{'unibet': {'end': 79.4392523364486, 'beg': 76.68711656441718}, 'winamax': {'end': 79.27788649706459, 'beg': 76.84426229508198}, 'pinnacle': {'end': 82.57699747061449, 'beg': 79.90033222591362}}\n",
      "78\n",
      "{'unibet': {'end': 32.50000000000001, 'beg': 27.27272727272727}, 'winamax': {'end': 31.74111675126904, 'beg': 28.403755868544604}, 'pinnacle': {'end': 31.302801244997777, 'beg': 25.51100628930818}}\n",
      "79\n",
      "79\n"
     ]
    }
   ],
   "source": [
    "teams = ['Atlanta Dream','Connecticut Sun','New York Liberty','Dallas Wings','Phoenix Mercury','Minnesota Lynx','Los Angeles Sparks','San Antonio Stars','Washington Mystics','Indiana Fever','Chicago Sky','Seattle Storm']\n",
    "count = 0\n",
    "bookmakers = [\"winamax\",\"unibet\",\"pinnacle\"]\n",
    "scoreResult = {}\n",
    "for book in bookmakers:\n",
    "    scoreResult[book] = {'beg': 0, 'end': 0}\n",
    "scoreResult[\"mean\"] = {'beg': 0, 'end': 0}\n",
    "for homeT in teams:\n",
    "    for awayT in teams:\n",
    "        objGames = getPointsFromBet(df,resultsdf,homeT,awayT)\n",
    "        for obj in objGames:\n",
    "            print obj\n",
    "            count = count + 1\n",
    "            if count > 39:\n",
    "                for book in bookmakers:\n",
    "                    scoreResult[book][\"beg\"] = scoreResult[book][\"beg\"] + math.log(obj[book][\"beg\"])\n",
    "                    scoreResult[book][\"end\"] = scoreResult[book][\"end\"] + math.log(obj[book][\"end\"])\n",
    "                meanBookBeg = (obj[\"pinnacle\"][\"beg\"] + obj[\"winamax\"][\"beg\"] + obj[\"unibet\"][\"beg\"])/3\n",
    "                meanBookEnd = (obj[\"pinnacle\"][\"end\"] + obj[\"winamax\"][\"end\"] + obj[\"unibet\"][\"end\"])/3\n",
    "                scoreResult[\"mean\"][\"beg\"] = scoreResult[\"mean\"][\"beg\"] + math.log(meanBookBeg)\n",
    "                scoreResult[\"mean\"][\"end\"] = scoreResult[\"mean\"][\"end\"] + math.log(meanBookEnd)\n",
    "                print count\n",
    "print count\n"
   ]
  },
  {
   "cell_type": "code",
   "execution_count": 71,
   "metadata": {},
   "outputs": [
    {
     "name": "stdout",
     "output_type": "stream",
     "text": [
      "{'unibet': {'end': 318.5231645842083, 'beg': 317.7009465464769}, 'mean': {'end': 318.60620740730576, 'beg': 317.78545030315456}, 'winamax': {'end': 318.6996205615627, 'beg': 317.86490598069247}, 'pinnacle': {'end': 318.5048230322736, 'beg': 317.59508729059036}}\n"
     ]
    }
   ],
   "source": [
    "print scoreResult #+1"
   ]
  },
  {
   "cell_type": "code",
   "execution_count": 74,
   "metadata": {},
   "outputs": [
    {
     "name": "stdout",
     "output_type": "stream",
     "text": [
      "{'unibet': {'end': 318.5231645842083, 'beg': 317.7009465464769}, 'mean': {'end': 318.4865400963578, 'beg': 317.78545030315456}, 'winamax': {'end': 318.6996205615627, 'beg': 317.86490598069247}, 'pinnacle': {'end': 318.175228021278, 'beg': 317.59508729059036}}\n"
     ]
    }
   ],
   "source": [
    "print scoreResult#+3"
   ]
  },
  {
   "cell_type": "code",
   "execution_count": 77,
   "metadata": {},
   "outputs": [
    {
     "name": "stdout",
     "output_type": "stream",
     "text": [
      "{'unibet': {'end': 318.5231645842083, 'beg': 317.7009465464769}, 'mean': {'end': 318.75219533360075, 'beg': 317.78545030315456}, 'winamax': {'end': 318.6996205615627, 'beg': 317.86490598069247}, 'pinnacle': {'end': 318.6536832135674, 'beg': 317.59508729059036}}\n"
     ]
    }
   ],
   "source": [
    "print scoreResult #-2"
   ]
  },
  {
   "cell_type": "code",
   "execution_count": 86,
   "metadata": {},
   "outputs": [
    {
     "name": "stdout",
     "output_type": "stream",
     "text": [
      "{'unibet': {'end': 318.5231645842083, 'beg': 317.7009465464769}, 'mean': {'end': 318.80949216309, 'beg': 317.78545030315456}, 'winamax': {'end': 318.6996205615627, 'beg': 317.86490598069247}, 'pinnacle': {'end': 318.53991029903824, 'beg': 317.59508729059036}}\n"
     ]
    }
   ],
   "source": [
    "print scoreResult #-3.5"
   ]
  },
  {
   "cell_type": "code",
   "execution_count": 101,
   "metadata": {},
   "outputs": [
    {
     "name": "stdout",
     "output_type": "stream",
     "text": [
      "{'unibet': {'end': 318.5231645842083, 'beg': 317.7009465464769}, 'mean': {'end': 318.85589146729296, 'beg': 317.78545030315456}, 'winamax': {'end': 318.6996205615627, 'beg': 317.86490598069247}, 'pinnacle': {'end': 318.26523982241645, 'beg': 317.59508729059036}}\n"
     ]
    }
   ],
   "source": [
    "print scoreResult #-5"
   ]
  },
  {
   "cell_type": "code",
   "execution_count": 104,
   "metadata": {},
   "outputs": [
    {
     "name": "stdout",
     "output_type": "stream",
     "text": [
      "{'unibet': {'end': 318.5231645842083, 'beg': 317.7009465464769}, 'mean': {'end': 318.90798759015905, 'beg': 317.78545030315456}, 'winamax': {'end': 318.6996205615627, 'beg': 317.86490598069247}, 'pinnacle': {'end': 317.27924392347404, 'beg': 317.59508729059036}}\n"
     ]
    }
   ],
   "source": [
    "print scoreResult #-7.5"
   ]
  },
  {
   "cell_type": "code",
   "execution_count": 107,
   "metadata": {},
   "outputs": [
    {
     "name": "stdout",
     "output_type": "stream",
     "text": [
      "{'unibet': {'end': 318.5231645842083, 'beg': 317.7009465464769}, 'mean': {'end': 318.9267996480838, 'beg': 317.78545030315456}, 'winamax': {'end': 318.6996205615627, 'beg': 317.86490598069247}, 'pinnacle': {'end': 313.37465194417695, 'beg': 317.59508729059036}}\n"
     ]
    }
   ],
   "source": [
    "print scoreResult #-10"
   ]
  },
  {
   "cell_type": "code",
   "execution_count": 110,
   "metadata": {},
   "outputs": [
    {
     "name": "stdout",
     "output_type": "stream",
     "text": [
      "{'unibet': {'end': 318.5231645842083, 'beg': 317.7009465464769}, 'mean': {'end': 318.75219533360075, 'beg': 317.78545030315456}, 'winamax': {'end': 319.0317403191848, 'beg': 317.86490598069247}, 'pinnacle': {'end': 318.6040256924508, 'beg': 317.59508729059036}}\n"
     ]
    }
   ],
   "source": [
    "print scoreResult #-2, winamax"
   ]
  },
  {
   "cell_type": "code",
   "execution_count": 113,
   "metadata": {},
   "outputs": [
    {
     "name": "stdout",
     "output_type": "stream",
     "text": [
      "{'unibet': {'end': 318.5231645842083, 'beg': 317.7009465464769}, 'mean': {'end': 318.85452744741747, 'beg': 317.78545030315456}, 'winamax': {'end': 315.1027261118, 'beg': 317.86490598069247}, 'pinnacle': {'end': 318.6040256924508, 'beg': 317.59508729059036}}\n"
     ]
    }
   ],
   "source": [
    "print scoreResult #-10, winamax"
   ]
  },
  {
   "cell_type": "code",
   "execution_count": 116,
   "metadata": {},
   "outputs": [
    {
     "name": "stdout",
     "output_type": "stream",
     "text": [
      "{'unibet': {'end': 318.5231645842083, 'beg': 317.7009465464769}, 'mean': {'end': 318.79158693878986, 'beg': 317.78545030315456}, 'winamax': {'end': 319.1378952759849, 'beg': 317.86490598069247}, 'pinnacle': {'end': 318.6040256924508, 'beg': 317.59508729059036}}\n"
     ]
    }
   ],
   "source": [
    "print scoreResult #-3, winamax"
   ]
  },
  {
   "cell_type": "code",
   "execution_count": 120,
   "metadata": {},
   "outputs": [
    {
     "name": "stdout",
     "output_type": "stream",
     "text": [
      "{'unibet': {'end': 318.5231645842083, 'beg': 317.7009465464769}, 'mean': {'end': 318.6594179289429, 'beg': 317.78545030315456}, 'winamax': {'end': 318.6996205615627, 'beg': 317.86490598069247}, 'pinnacle': {'end': 318.6040256924508, 'beg': 317.59508729059036}}\n"
     ]
    }
   ],
   "source": [
    "print scoreResult #0"
   ]
  },
  {
   "cell_type": "code",
   "execution_count": 124,
   "metadata": {},
   "outputs": [
    {
     "name": "stdout",
     "output_type": "stream",
     "text": [
      "{'unibet': {'end': 318.5231645842083, 'beg': 317.7009465464769}, 'mean': {'end': 318.8261868466264, 'beg': 317.78545030315456}, 'winamax': {'end': 319.2010719816584, 'beg': 317.86490598069247}, 'pinnacle': {'end': 318.6040256924508, 'beg': 317.59508729059036}}\n"
     ]
    }
   ],
   "source": [
    "print scoreResult #-4,winamax"
   ]
  },
  {
   "cell_type": "code",
   "execution_count": 127,
   "metadata": {},
   "outputs": [
    {
     "name": "stdout",
     "output_type": "stream",
     "text": [
      "{'unibet': {'end': 318.5231645842083, 'beg': 317.7009465464769}, 'mean': {'end': 318.88058980211764, 'beg': 317.78545030315456}, 'winamax': {'end': 319.1863950003765, 'beg': 317.86490598069247}, 'pinnacle': {'end': 318.6040256924508, 'beg': 317.59508729059036}}\n"
     ]
    }
   ],
   "source": [
    "print scoreResult #-6,winamax"
   ]
  },
  {
   "cell_type": "code",
   "execution_count": 130,
   "metadata": {},
   "outputs": [
    {
     "name": "stdout",
     "output_type": "stream",
     "text": [
      "{'unibet': {'end': 318.5231645842083, 'beg': 317.7009465464769}, 'mean': {'end': 318.85589146729296, 'beg': 317.78545030315456}, 'winamax': {'end': 319.2184014799714, 'beg': 317.86490598069247}, 'pinnacle': {'end': 318.6040256924508, 'beg': 317.59508729059036}}\n"
     ]
    }
   ],
   "source": [
    "print scoreResult #-5,winamax"
   ]
  },
  {
   "cell_type": "code",
   "execution_count": 133,
   "metadata": {},
   "outputs": [
    {
     "name": "stdout",
     "output_type": "stream",
     "text": [
      "{'unibet': {'end': 318.5231645842083, 'beg': 317.7009465464769}, 'mean': {'end': 318.8416578239777, 'beg': 317.78545030315456}, 'winamax': {'end': 319.21566930840794, 'beg': 317.86490598069247}, 'pinnacle': {'end': 318.6040256924508, 'beg': 317.59508729059036}}\n"
     ]
    }
   ],
   "source": [
    "print scoreResult #-4.5,winamax"
   ]
  },
  {
   "cell_type": "code",
   "execution_count": 136,
   "metadata": {},
   "outputs": [
    {
     "name": "stdout",
     "output_type": "stream",
     "text": [
      "{'unibet': {'end': 318.5231645842083, 'beg': 317.7009465464769}, 'mean': {'end': 318.8688736654932, 'beg': 317.78545030315456}, 'winamax': {'end': 319.2088120735787, 'beg': 317.86490598069247}, 'pinnacle': {'end': 318.6040256924508, 'beg': 317.59508729059036}}\n"
     ]
    }
   ],
   "source": [
    "print scoreResult #-5.5,winamax"
   ]
  },
  {
   "cell_type": "code",
   "execution_count": 139,
   "metadata": {},
   "outputs": [
    {
     "name": "stdout",
     "output_type": "stream",
     "text": [
      "{'unibet': {'end': 318.5231645842083, 'beg': 317.7009465464769}, 'mean': {'end': 318.4865400963578, 'beg': 317.78545030315456}, 'winamax': {'end': 317.927148917818, 'beg': 317.86490598069247}, 'pinnacle': {'end': 318.6040256924508, 'beg': 317.59508729059036}}\n"
     ]
    }
   ],
   "source": [
    "print scoreResult #+3,winamax"
   ]
  },
  {
   "cell_type": "code",
   "execution_count": 143,
   "metadata": {},
   "outputs": [
    {
     "name": "stdout",
     "output_type": "stream",
     "text": [
      "{'unibet': {'end': 159.82254726981662, 'beg': 159.3937524926488}, 'mean': {'end': 159.97838500795402, 'beg': 159.58461468216748}, 'winamax': {'end': 159.79322609774104, 'beg': 159.46726801262312}, 'pinnacle': {'end': 160.28508474955268, 'beg': 159.83465209941824}}\n"
     ]
    }
   ],
   "source": [
    "print scoreResult #0, first dataset"
   ]
  },
  {
   "cell_type": "code",
   "execution_count": 145,
   "metadata": {},
   "outputs": [
    {
     "name": "stdout",
     "output_type": "stream",
     "text": [
      "{'unibet': {'end': 158.7006173143916, 'beg': 158.30719405382806}, 'mean': {'end': 158.68103292098888, 'beg': 158.20083562098716}, 'winamax': {'end': 158.90639446382178, 'beg': 158.39763796806943}, 'pinnacle': {'end': 158.3189409428981, 'beg': 157.7604351911721}}\n"
     ]
    }
   ],
   "source": [
    "print scoreResult #0, second dataset"
   ]
  },
  {
   "cell_type": "code",
   "execution_count": 148,
   "metadata": {},
   "outputs": [
    {
     "name": "stdout",
     "output_type": "stream",
     "text": [
      "{'unibet': {'end': 158.7006173143916, 'beg': 158.30719405382806}, 'mean': {'end': 158.5522775354643, 'beg': 158.20083562098716}, 'winamax': {'end': 158.4971231249325, 'beg': 158.39763796806943}, 'pinnacle': {'end': 158.3189409428981, 'beg': 157.7604351911721}}\n"
     ]
    }
   ],
   "source": [
    "print scoreResult #-5, winamax, second dataset"
   ]
  },
  {
   "cell_type": "code",
   "execution_count": 153,
   "metadata": {},
   "outputs": [
    {
     "name": "stdout",
     "output_type": "stream",
     "text": [
      "{'unibet': {'end': 158.7006173143916, 'beg': 158.30719405382806}, 'mean': {'end': 158.63882357007503, 'beg': 158.20083562098716}, 'winamax': {'end': 158.8230950146532, 'beg': 158.39763796806943}, 'pinnacle': {'end': 158.3189409428981, 'beg': 157.7604351911721}}\n"
     ]
    }
   ],
   "source": [
    "print scoreResult #-2, winamax, second dataset"
   ]
  },
  {
   "cell_type": "code",
   "execution_count": 156,
   "metadata": {},
   "outputs": [
    {
     "name": "stdout",
     "output_type": "stream",
     "text": [
      "{'unibet': {'end': 158.7006173143916, 'beg': 158.30719405382806}, 'mean': {'end': 158.66142405969632, 'beg': 158.20083562098716}, 'winamax': {'end': 158.87694425556487, 'beg': 158.39763796806943}, 'pinnacle': {'end': 158.3189409428981, 'beg': 157.7604351911721}}\n"
     ]
    }
   ],
   "source": [
    "print scoreResult #-1, winamax, second dataset"
   ]
  },
  {
   "cell_type": "code",
   "execution_count": 150,
   "metadata": {},
   "outputs": [
    {
     "name": "stdout",
     "output_type": "stream",
     "text": [
      "{'unibet': {'end': 159.82254726981662, 'beg': 159.3937524926488}, 'mean': {'end': 160.30361393182886, 'beg': 159.58461468216748}, 'winamax': {'end': 160.7212783550389, 'beg': 159.46726801262312}, 'pinnacle': {'end': 160.28508474955268, 'beg': 159.83465209941824}}\n"
     ]
    }
   ],
   "source": [
    "print scoreResult #-5, winamax, first dataset"
   ]
  },
  {
   "cell_type": "code",
   "execution_count": 71,
   "metadata": {},
   "outputs": [
    {
     "name": "stdout",
     "output_type": "stream",
     "text": [
      "[ 0.4547956   0.54256293  0.00264147]\n"
     ]
    }
   ],
   "source": [
    "def softmax(x):\n",
    "    \"\"\"Compute softmax values for each sets of scores in x.\"\"\"\n",
    "    e_x = np.exp(x - np.max(x))\n",
    "    return e_x / e_x.sum()\n",
    "\n",
    "scores = [318.5231645842083,318.6996205615627,313.37465194417695]\n",
    "print(softmax(scores))"
   ]
  }
 ],
 "metadata": {
  "kernelspec": {
   "display_name": "Python 2",
   "language": "python",
   "name": "python2"
  },
  "language_info": {
   "codemirror_mode": {
    "name": "ipython",
    "version": 2
   },
   "file_extension": ".py",
   "mimetype": "text/x-python",
   "name": "python",
   "nbconvert_exporter": "python",
   "pygments_lexer": "ipython2",
   "version": "2.7.12"
  }
 },
 "nbformat": 4,
 "nbformat_minor": 2
}
